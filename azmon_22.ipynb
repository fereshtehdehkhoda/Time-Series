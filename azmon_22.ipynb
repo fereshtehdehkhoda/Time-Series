{
  "cells": [
    {
      "cell_type": "markdown",
      "metadata": {
        "id": "view-in-github",
        "colab_type": "text"
      },
      "source": [
        "<a href=\"https://colab.research.google.com/github/fereshtehdehkhoda/Time-Series/blob/main/azmon_22.ipynb\" target=\"_parent\"><img src=\"https://colab.research.google.com/assets/colab-badge.svg\" alt=\"Open In Colab\"/></a>"
      ]
    },
    {
      "cell_type": "code",
      "execution_count": null,
      "id": "c99aa44b-1a63-4e39-87b0-e1c6cd07b65c",
      "metadata": {
        "id": "c99aa44b-1a63-4e39-87b0-e1c6cd07b65c"
      },
      "outputs": [],
      "source": [
        "#soale 1 gozineye 4"
      ]
    },
    {
      "cell_type": "code",
      "execution_count": null,
      "id": "3094aa79-9bad-4499-96ac-6fccfb251809",
      "metadata": {
        "id": "3094aa79-9bad-4499-96ac-6fccfb251809"
      },
      "outputs": [],
      "source": [
        "import pandas as pd\n",
        "import numpy as np\n",
        "import matplotlib.pyplot as plt"
      ]
    },
    {
      "cell_type": "code",
      "execution_count": null,
      "id": "c016e694-bb25-4dc9-9057-93a96e991585",
      "metadata": {
        "id": "c016e694-bb25-4dc9-9057-93a96e991585",
        "outputId": "c80a301d-f960-498a-ef50-67a62b3b1e56"
      },
      "outputs": [
        {
          "data": {
            "text/html": [
              "<div>\n",
              "<style scoped>\n",
              "    .dataframe tbody tr th:only-of-type {\n",
              "        vertical-align: middle;\n",
              "    }\n",
              "\n",
              "    .dataframe tbody tr th {\n",
              "        vertical-align: top;\n",
              "    }\n",
              "\n",
              "    .dataframe thead th {\n",
              "        text-align: right;\n",
              "    }\n",
              "</style>\n",
              "<table border=\"1\" class=\"dataframe\">\n",
              "  <thead>\n",
              "    <tr style=\"text-align: right;\">\n",
              "      <th></th>\n",
              "      <th>quarter</th>\n",
              "      <th>electricity_consumption</th>\n",
              "    </tr>\n",
              "  </thead>\n",
              "  <tbody>\n",
              "    <tr>\n",
              "      <th>0</th>\n",
              "      <td>1387-Q1</td>\n",
              "      <td>12574</td>\n",
              "    </tr>\n",
              "    <tr>\n",
              "      <th>1</th>\n",
              "      <td>1387-Q2</td>\n",
              "      <td>13338</td>\n",
              "    </tr>\n",
              "    <tr>\n",
              "      <th>2</th>\n",
              "      <td>1387-Q3</td>\n",
              "      <td>12821</td>\n",
              "    </tr>\n",
              "    <tr>\n",
              "      <th>3</th>\n",
              "      <td>1387-Q4</td>\n",
              "      <td>14511</td>\n",
              "    </tr>\n",
              "    <tr>\n",
              "      <th>4</th>\n",
              "      <td>1388-Q1</td>\n",
              "      <td>13392</td>\n",
              "    </tr>\n",
              "  </tbody>\n",
              "</table>\n",
              "</div>"
            ],
            "text/plain": [
              "   quarter  electricity_consumption\n",
              "0  1387-Q1                    12574\n",
              "1  1387-Q2                    13338\n",
              "2  1387-Q3                    12821\n",
              "3  1387-Q4                    14511\n",
              "4  1388-Q1                    13392"
            ]
          },
          "execution_count": 101,
          "metadata": {},
          "output_type": "execute_result"
        }
      ],
      "source": [
        "data=pd.read_csv(\"hw22.csv\")\n",
        "data.head()"
      ]
    },
    {
      "cell_type": "code",
      "execution_count": null,
      "id": "61e77072-1b67-4f8d-87ec-770e943620f8",
      "metadata": {
        "id": "61e77072-1b67-4f8d-87ec-770e943620f8",
        "outputId": "5021b34c-e67f-4e4c-f393-8d8a43b2776f"
      },
      "outputs": [
        {
          "name": "stdout",
          "output_type": "stream",
          "text": [
            "<class 'pandas.core.frame.DataFrame'>\n",
            "RangeIndex: 54 entries, 0 to 53\n",
            "Data columns (total 2 columns):\n",
            " #   Column                   Non-Null Count  Dtype \n",
            "---  ------                   --------------  ----- \n",
            " 0   quarter                  54 non-null     object\n",
            " 1   electricity_consumption  54 non-null     int64 \n",
            "dtypes: int64(1), object(1)\n",
            "memory usage: 996.0+ bytes\n"
          ]
        }
      ],
      "source": [
        "data.info()"
      ]
    },
    {
      "cell_type": "code",
      "execution_count": null,
      "id": "6028ccb9-9bc3-46ec-832c-31033c92e615",
      "metadata": {
        "id": "6028ccb9-9bc3-46ec-832c-31033c92e615",
        "outputId": "46e2f6f3-142c-42d1-a6cd-29093ad27b3d"
      },
      "outputs": [
        {
          "data": {
            "text/plain": [
              "quarter                    0\n",
              "electricity_consumption    0\n",
              "dtype: int64"
            ]
          },
          "execution_count": 103,
          "metadata": {},
          "output_type": "execute_result"
        }
      ],
      "source": [
        "np.sum(data.isnull(),axis=0)"
      ]
    },
    {
      "cell_type": "code",
      "execution_count": null,
      "id": "c2d1a857-e290-4ba3-a7dd-e6ca864435be",
      "metadata": {
        "id": "c2d1a857-e290-4ba3-a7dd-e6ca864435be"
      },
      "outputs": [],
      "source": [
        "data['year']=data['quarter'].str.split('-',expand=True)[0].astype('int')"
      ]
    },
    {
      "cell_type": "code",
      "execution_count": null,
      "id": "d0b5a1b1-e70d-4420-8f10-ead1c1c7f3e0",
      "metadata": {
        "id": "d0b5a1b1-e70d-4420-8f10-ead1c1c7f3e0",
        "outputId": "3788a8eb-a45f-4d0a-ab09-1a5c0a5114dc"
      },
      "outputs": [
        {
          "data": {
            "text/html": [
              "<div>\n",
              "<style scoped>\n",
              "    .dataframe tbody tr th:only-of-type {\n",
              "        vertical-align: middle;\n",
              "    }\n",
              "\n",
              "    .dataframe tbody tr th {\n",
              "        vertical-align: top;\n",
              "    }\n",
              "\n",
              "    .dataframe thead th {\n",
              "        text-align: right;\n",
              "    }\n",
              "</style>\n",
              "<table border=\"1\" class=\"dataframe\">\n",
              "  <thead>\n",
              "    <tr style=\"text-align: right;\">\n",
              "      <th></th>\n",
              "      <th>quarter</th>\n",
              "      <th>electricity_consumption</th>\n",
              "      <th>year</th>\n",
              "    </tr>\n",
              "  </thead>\n",
              "  <tbody>\n",
              "    <tr>\n",
              "      <th>0</th>\n",
              "      <td>1387-Q1</td>\n",
              "      <td>12574</td>\n",
              "      <td>1387</td>\n",
              "    </tr>\n",
              "    <tr>\n",
              "      <th>1</th>\n",
              "      <td>1387-Q2</td>\n",
              "      <td>13338</td>\n",
              "      <td>1387</td>\n",
              "    </tr>\n",
              "    <tr>\n",
              "      <th>2</th>\n",
              "      <td>1387-Q3</td>\n",
              "      <td>12821</td>\n",
              "      <td>1387</td>\n",
              "    </tr>\n",
              "    <tr>\n",
              "      <th>3</th>\n",
              "      <td>1387-Q4</td>\n",
              "      <td>14511</td>\n",
              "      <td>1387</td>\n",
              "    </tr>\n",
              "    <tr>\n",
              "      <th>4</th>\n",
              "      <td>1388-Q1</td>\n",
              "      <td>13392</td>\n",
              "      <td>1388</td>\n",
              "    </tr>\n",
              "  </tbody>\n",
              "</table>\n",
              "</div>"
            ],
            "text/plain": [
              "   quarter  electricity_consumption  year\n",
              "0  1387-Q1                    12574  1387\n",
              "1  1387-Q2                    13338  1387\n",
              "2  1387-Q3                    12821  1387\n",
              "3  1387-Q4                    14511  1387\n",
              "4  1388-Q1                    13392  1388"
            ]
          },
          "execution_count": 105,
          "metadata": {},
          "output_type": "execute_result"
        }
      ],
      "source": [
        "data.head()"
      ]
    },
    {
      "cell_type": "code",
      "execution_count": null,
      "id": "4f6a8346-42b2-464c-b9b6-20b9aa406d14",
      "metadata": {
        "id": "4f6a8346-42b2-464c-b9b6-20b9aa406d14",
        "outputId": "5008148d-f6f7-4ba8-f91a-365bcd984067"
      },
      "outputs": [
        {
          "name": "stdout",
          "output_type": "stream",
          "text": [
            "<class 'pandas.core.frame.DataFrame'>\n",
            "RangeIndex: 54 entries, 0 to 53\n",
            "Data columns (total 3 columns):\n",
            " #   Column                   Non-Null Count  Dtype \n",
            "---  ------                   --------------  ----- \n",
            " 0   quarter                  54 non-null     object\n",
            " 1   electricity_consumption  54 non-null     int64 \n",
            " 2   year                     54 non-null     int32 \n",
            "dtypes: int32(1), int64(1), object(1)\n",
            "memory usage: 1.2+ KB\n"
          ]
        }
      ],
      "source": [
        "data.info()"
      ]
    },
    {
      "cell_type": "code",
      "execution_count": null,
      "id": "48c33453-61f4-4ced-9f3b-dce31db482aa",
      "metadata": {
        "id": "48c33453-61f4-4ced-9f3b-dce31db482aa"
      },
      "outputs": [],
      "source": [
        "data['season']=data['quarter'].str.split('-',expand=True)[1]"
      ]
    },
    {
      "cell_type": "code",
      "execution_count": null,
      "id": "91452793-1275-4ad7-a267-de3ccd760dd8",
      "metadata": {
        "id": "91452793-1275-4ad7-a267-de3ccd760dd8",
        "outputId": "e375f847-927c-455d-da9e-091a2a64d086"
      },
      "outputs": [
        {
          "data": {
            "text/html": [
              "<div>\n",
              "<style scoped>\n",
              "    .dataframe tbody tr th:only-of-type {\n",
              "        vertical-align: middle;\n",
              "    }\n",
              "\n",
              "    .dataframe tbody tr th {\n",
              "        vertical-align: top;\n",
              "    }\n",
              "\n",
              "    .dataframe thead th {\n",
              "        text-align: right;\n",
              "    }\n",
              "</style>\n",
              "<table border=\"1\" class=\"dataframe\">\n",
              "  <thead>\n",
              "    <tr style=\"text-align: right;\">\n",
              "      <th></th>\n",
              "      <th>quarter</th>\n",
              "      <th>electricity_consumption</th>\n",
              "      <th>year</th>\n",
              "      <th>season</th>\n",
              "    </tr>\n",
              "  </thead>\n",
              "  <tbody>\n",
              "    <tr>\n",
              "      <th>0</th>\n",
              "      <td>1387-Q1</td>\n",
              "      <td>12574</td>\n",
              "      <td>1387</td>\n",
              "      <td>Q1</td>\n",
              "    </tr>\n",
              "    <tr>\n",
              "      <th>1</th>\n",
              "      <td>1387-Q2</td>\n",
              "      <td>13338</td>\n",
              "      <td>1387</td>\n",
              "      <td>Q2</td>\n",
              "    </tr>\n",
              "    <tr>\n",
              "      <th>2</th>\n",
              "      <td>1387-Q3</td>\n",
              "      <td>12821</td>\n",
              "      <td>1387</td>\n",
              "      <td>Q3</td>\n",
              "    </tr>\n",
              "    <tr>\n",
              "      <th>3</th>\n",
              "      <td>1387-Q4</td>\n",
              "      <td>14511</td>\n",
              "      <td>1387</td>\n",
              "      <td>Q4</td>\n",
              "    </tr>\n",
              "    <tr>\n",
              "      <th>4</th>\n",
              "      <td>1388-Q1</td>\n",
              "      <td>13392</td>\n",
              "      <td>1388</td>\n",
              "      <td>Q1</td>\n",
              "    </tr>\n",
              "  </tbody>\n",
              "</table>\n",
              "</div>"
            ],
            "text/plain": [
              "   quarter  electricity_consumption  year season\n",
              "0  1387-Q1                    12574  1387     Q1\n",
              "1  1387-Q2                    13338  1387     Q2\n",
              "2  1387-Q3                    12821  1387     Q3\n",
              "3  1387-Q4                    14511  1387     Q4\n",
              "4  1388-Q1                    13392  1388     Q1"
            ]
          },
          "execution_count": 108,
          "metadata": {},
          "output_type": "execute_result"
        }
      ],
      "source": [
        "data.head()"
      ]
    },
    {
      "cell_type": "code",
      "execution_count": null,
      "id": "9192358d-7721-40ac-b6c0-19717b1933e6",
      "metadata": {
        "id": "9192358d-7721-40ac-b6c0-19717b1933e6",
        "outputId": "d99ebb7d-a596-4032-dbf5-333ee3ba4c35"
      },
      "outputs": [
        {
          "data": {
            "text/plain": [
              "(54, 4)"
            ]
          },
          "execution_count": 109,
          "metadata": {},
          "output_type": "execute_result"
        }
      ],
      "source": [
        "data.shape"
      ]
    },
    {
      "cell_type": "code",
      "execution_count": null,
      "id": "383c7c43-ad45-40da-8a9d-e9e468fbabf3",
      "metadata": {
        "id": "383c7c43-ad45-40da-8a9d-e9e468fbabf3",
        "outputId": "28c4c7ec-e17f-4fb7-a8e1-9eeddb8c2881"
      },
      "outputs": [
        {
          "data": {
            "image/png": "[encoded data removed]",
            "text/plain": [
              "<Figure size 1600x500 with 1 Axes>"
            ]
          },
          "metadata": {},
          "output_type": "display_data"
        }
      ],
      "source": [
        "plt.figure(figsize=(16,5))\n",
        "plt.plot(data['quarter'],data['electricity_consumption'],color='blue')\n",
        "plt.title('electricity_consumption as year')\n",
        "plt.xlabel('year')\n",
        "plt.ylabel('el consumption')\n",
        "plt.xticks(ticks=range(0, data.shape[0] + 1, 4),labels=range(1387,1401))\n",
        "plt.grid()\n",
        "plt.show()"
      ]
    },
    {
      "cell_type": "code",
      "execution_count": null,
      "id": "0f2d37b5-c4fc-40b0-8025-2015f3ee9181",
      "metadata": {
        "id": "0f2d37b5-c4fc-40b0-8025-2015f3ee9181"
      },
      "outputs": [],
      "source": [
        "#trend va seasonality mashhod ast"
      ]
    },
    {
      "cell_type": "code",
      "execution_count": null,
      "id": "c0ef74d3-2fdf-4699-a3bf-7b61015dff11",
      "metadata": {
        "id": "c0ef74d3-2fdf-4699-a3bf-7b61015dff11"
      },
      "outputs": [],
      "source": [
        "#-------------------------------------------------------------------------------------------------"
      ]
    },
    {
      "cell_type": "code",
      "execution_count": null,
      "id": "62ed60e8-bd68-4989-bf64-e5ad1086c166",
      "metadata": {
        "id": "62ed60e8-bd68-4989-bf64-e5ad1086c166"
      },
      "outputs": [],
      "source": [
        "#soale 2 gozineye 1"
      ]
    },
    {
      "cell_type": "code",
      "execution_count": null,
      "id": "8f52248e-485b-4ffd-9f8c-770dff2ef0c0",
      "metadata": {
        "id": "8f52248e-485b-4ffd-9f8c-770dff2ef0c0"
      },
      "outputs": [],
      "source": [
        "from statsmodels.tsa.seasonal import seasonal_decompose\n",
        "add_decompose=seasonal_decompose(data['electricity_consumption'],\n",
        "                                model='additive',\n",
        "                                period=4,\n",
        "                                two_sided=True)"
      ]
    },
    {
      "cell_type": "code",
      "execution_count": null,
      "id": "dc628d2a-f18b-42c4-91a5-01cbb512d4ec",
      "metadata": {
        "id": "dc628d2a-f18b-42c4-91a5-01cbb512d4ec"
      },
      "outputs": [],
      "source": [
        "data['trend']=add_decompose.trend"
      ]
    },
    {
      "cell_type": "code",
      "execution_count": null,
      "id": "c196dd01-5b77-4b48-ad54-2961a471e706",
      "metadata": {
        "id": "c196dd01-5b77-4b48-ad54-2961a471e706",
        "outputId": "141a8a8d-7c9d-4edb-c13f-a3e73276f0e7"
      },
      "outputs": [
        {
          "data": {
            "text/html": [
              "<div>\n",
              "<style scoped>\n",
              "    .dataframe tbody tr th:only-of-type {\n",
              "        vertical-align: middle;\n",
              "    }\n",
              "\n",
              "    .dataframe tbody tr th {\n",
              "        vertical-align: top;\n",
              "    }\n",
              "\n",
              "    .dataframe thead th {\n",
              "        text-align: right;\n",
              "    }\n",
              "</style>\n",
              "<table border=\"1\" class=\"dataframe\">\n",
              "  <thead>\n",
              "    <tr style=\"text-align: right;\">\n",
              "      <th></th>\n",
              "      <th>quarter</th>\n",
              "      <th>electricity_consumption</th>\n",
              "      <th>year</th>\n",
              "      <th>season</th>\n",
              "      <th>trend</th>\n",
              "    </tr>\n",
              "  </thead>\n",
              "  <tbody>\n",
              "    <tr>\n",
              "      <th>4</th>\n",
              "      <td>1388-Q1</td>\n",
              "      <td>13392</td>\n",
              "      <td>1388</td>\n",
              "      <td>Q1</td>\n",
              "      <td>14377.25</td>\n",
              "    </tr>\n",
              "  </tbody>\n",
              "</table>\n",
              "</div>"
            ],
            "text/plain": [
              "   quarter  electricity_consumption  year season     trend\n",
              "4  1388-Q1                    13392  1388     Q1  14377.25"
            ]
          },
          "execution_count": 116,
          "metadata": {},
          "output_type": "execute_result"
        }
      ],
      "source": [
        "data[(data['season']=='Q1') & (data['year']==1388)]"
      ]
    },
    {
      "cell_type": "code",
      "execution_count": null,
      "id": "9f08e436-6ad4-4da9-afe3-7aacf96095e3",
      "metadata": {
        "id": "9f08e436-6ad4-4da9-afe3-7aacf96095e3",
        "outputId": "9646c847-f7a0-44c6-db6f-c316b9da8e95"
      },
      "outputs": [
        {
          "data": {
            "text/html": [
              "<div>\n",
              "<style scoped>\n",
              "    .dataframe tbody tr th:only-of-type {\n",
              "        vertical-align: middle;\n",
              "    }\n",
              "\n",
              "    .dataframe tbody tr th {\n",
              "        vertical-align: top;\n",
              "    }\n",
              "\n",
              "    .dataframe thead th {\n",
              "        text-align: right;\n",
              "    }\n",
              "</style>\n",
              "<table border=\"1\" class=\"dataframe\">\n",
              "  <thead>\n",
              "    <tr style=\"text-align: right;\">\n",
              "      <th></th>\n",
              "      <th>quarter</th>\n",
              "      <th>electricity_consumption</th>\n",
              "      <th>year</th>\n",
              "      <th>season</th>\n",
              "      <th>trend</th>\n",
              "      <th>seasonality</th>\n",
              "    </tr>\n",
              "  </thead>\n",
              "  <tbody>\n",
              "    <tr>\n",
              "      <th>0</th>\n",
              "      <td>1387-Q1</td>\n",
              "      <td>12574</td>\n",
              "      <td>1387</td>\n",
              "      <td>Q1</td>\n",
              "      <td>NaN</td>\n",
              "      <td>-2084.204527</td>\n",
              "    </tr>\n",
              "    <tr>\n",
              "      <th>1</th>\n",
              "      <td>1387-Q2</td>\n",
              "      <td>13338</td>\n",
              "      <td>1387</td>\n",
              "      <td>Q2</td>\n",
              "      <td>NaN</td>\n",
              "      <td>5446.868389</td>\n",
              "    </tr>\n",
              "    <tr>\n",
              "      <th>2</th>\n",
              "      <td>1387-Q3</td>\n",
              "      <td>12821</td>\n",
              "      <td>1387</td>\n",
              "      <td>Q3</td>\n",
              "      <td>13413.25</td>\n",
              "      <td>204.869992</td>\n",
              "    </tr>\n",
              "    <tr>\n",
              "      <th>3</th>\n",
              "      <td>1387-Q4</td>\n",
              "      <td>14511</td>\n",
              "      <td>1387</td>\n",
              "      <td>Q4</td>\n",
              "      <td>13952.50</td>\n",
              "      <td>-3567.533854</td>\n",
              "    </tr>\n",
              "    <tr>\n",
              "      <th>4</th>\n",
              "      <td>1388-Q1</td>\n",
              "      <td>13392</td>\n",
              "      <td>1388</td>\n",
              "      <td>Q1</td>\n",
              "      <td>14377.25</td>\n",
              "      <td>-2084.204527</td>\n",
              "    </tr>\n",
              "  </tbody>\n",
              "</table>\n",
              "</div>"
            ],
            "text/plain": [
              "   quarter  electricity_consumption  year season     trend  seasonality\n",
              "0  1387-Q1                    12574  1387     Q1       NaN -2084.204527\n",
              "1  1387-Q2                    13338  1387     Q2       NaN  5446.868389\n",
              "2  1387-Q3                    12821  1387     Q3  13413.25   204.869992\n",
              "3  1387-Q4                    14511  1387     Q4  13952.50 -3567.533854\n",
              "4  1388-Q1                    13392  1388     Q1  14377.25 -2084.204527"
            ]
          },
          "execution_count": 117,
          "metadata": {},
          "output_type": "execute_result"
        }
      ],
      "source": [
        "data['seasonality']=add_decompose.seasonal\n",
        "data.head()"
      ]
    },
    {
      "cell_type": "code",
      "execution_count": null,
      "id": "b28ca0e1-c4b7-47e5-917c-f43fdd6c8c03",
      "metadata": {
        "id": "b28ca0e1-c4b7-47e5-917c-f43fdd6c8c03"
      },
      "outputs": [],
      "source": [
        "#soale 3 gozine 2"
      ]
    },
    {
      "cell_type": "code",
      "execution_count": null,
      "id": "7d0bdcfc-2dae-4557-82ff-38f97d782017",
      "metadata": {
        "id": "7d0bdcfc-2dae-4557-82ff-38f97d782017",
        "outputId": "9cc9fa78-d3b1-4e5c-ee10-c14b97c72a5e"
      },
      "outputs": [
        {
          "data": {
            "text/html": [
              "<div>\n",
              "<style scoped>\n",
              "    .dataframe tbody tr th:only-of-type {\n",
              "        vertical-align: middle;\n",
              "    }\n",
              "\n",
              "    .dataframe tbody tr th {\n",
              "        vertical-align: top;\n",
              "    }\n",
              "\n",
              "    .dataframe thead th {\n",
              "        text-align: right;\n",
              "    }\n",
              "</style>\n",
              "<table border=\"1\" class=\"dataframe\">\n",
              "  <thead>\n",
              "    <tr style=\"text-align: right;\">\n",
              "      <th></th>\n",
              "      <th>quarter</th>\n",
              "      <th>electricity_consumption</th>\n",
              "      <th>year</th>\n",
              "      <th>season</th>\n",
              "      <th>trend</th>\n",
              "      <th>seasonality</th>\n",
              "    </tr>\n",
              "  </thead>\n",
              "  <tbody>\n",
              "    <tr>\n",
              "      <th>1</th>\n",
              "      <td>1387-Q2</td>\n",
              "      <td>13338</td>\n",
              "      <td>1387</td>\n",
              "      <td>Q2</td>\n",
              "      <td>NaN</td>\n",
              "      <td>5446.868389</td>\n",
              "    </tr>\n",
              "    <tr>\n",
              "      <th>5</th>\n",
              "      <td>1388-Q2</td>\n",
              "      <td>16834</td>\n",
              "      <td>1388</td>\n",
              "      <td>Q2</td>\n",
              "      <td>14280.625</td>\n",
              "      <td>5446.868389</td>\n",
              "    </tr>\n",
              "    <tr>\n",
              "      <th>9</th>\n",
              "      <td>1389-Q2</td>\n",
              "      <td>18656</td>\n",
              "      <td>1389</td>\n",
              "      <td>Q2</td>\n",
              "      <td>15370.500</td>\n",
              "      <td>5446.868389</td>\n",
              "    </tr>\n",
              "    <tr>\n",
              "      <th>13</th>\n",
              "      <td>1390-Q2</td>\n",
              "      <td>18518</td>\n",
              "      <td>1390</td>\n",
              "      <td>Q2</td>\n",
              "      <td>14781.500</td>\n",
              "      <td>5446.868389</td>\n",
              "    </tr>\n",
              "    <tr>\n",
              "      <th>17</th>\n",
              "      <td>1391-Q2</td>\n",
              "      <td>18254</td>\n",
              "      <td>1391</td>\n",
              "      <td>Q2</td>\n",
              "      <td>15080.000</td>\n",
              "      <td>5446.868389</td>\n",
              "    </tr>\n",
              "    <tr>\n",
              "      <th>21</th>\n",
              "      <td>1392-Q2</td>\n",
              "      <td>20920</td>\n",
              "      <td>1392</td>\n",
              "      <td>Q2</td>\n",
              "      <td>16434.375</td>\n",
              "      <td>5446.868389</td>\n",
              "    </tr>\n",
              "    <tr>\n",
              "      <th>25</th>\n",
              "      <td>1393-Q2</td>\n",
              "      <td>22209</td>\n",
              "      <td>1393</td>\n",
              "      <td>Q2</td>\n",
              "      <td>17683.000</td>\n",
              "      <td>5446.868389</td>\n",
              "    </tr>\n",
              "    <tr>\n",
              "      <th>29</th>\n",
              "      <td>1394-Q2</td>\n",
              "      <td>25563</td>\n",
              "      <td>1394</td>\n",
              "      <td>Q2</td>\n",
              "      <td>19267.250</td>\n",
              "      <td>5446.868389</td>\n",
              "    </tr>\n",
              "    <tr>\n",
              "      <th>33</th>\n",
              "      <td>1395-Q2</td>\n",
              "      <td>26391</td>\n",
              "      <td>1395</td>\n",
              "      <td>Q2</td>\n",
              "      <td>19455.625</td>\n",
              "      <td>5446.868389</td>\n",
              "    </tr>\n",
              "    <tr>\n",
              "      <th>37</th>\n",
              "      <td>1396-Q2</td>\n",
              "      <td>28016</td>\n",
              "      <td>1396</td>\n",
              "      <td>Q2</td>\n",
              "      <td>20824.125</td>\n",
              "      <td>5446.868389</td>\n",
              "    </tr>\n",
              "    <tr>\n",
              "      <th>41</th>\n",
              "      <td>1397-Q2</td>\n",
              "      <td>28755</td>\n",
              "      <td>1397</td>\n",
              "      <td>Q2</td>\n",
              "      <td>21658.625</td>\n",
              "      <td>5446.868389</td>\n",
              "    </tr>\n",
              "    <tr>\n",
              "      <th>45</th>\n",
              "      <td>1398-Q2</td>\n",
              "      <td>29449</td>\n",
              "      <td>1398</td>\n",
              "      <td>Q2</td>\n",
              "      <td>22167.500</td>\n",
              "      <td>5446.868389</td>\n",
              "    </tr>\n",
              "    <tr>\n",
              "      <th>49</th>\n",
              "      <td>1399-Q2</td>\n",
              "      <td>32157</td>\n",
              "      <td>1399</td>\n",
              "      <td>Q2</td>\n",
              "      <td>23212.625</td>\n",
              "      <td>5446.868389</td>\n",
              "    </tr>\n",
              "    <tr>\n",
              "      <th>53</th>\n",
              "      <td>1400-Q2</td>\n",
              "      <td>34645</td>\n",
              "      <td>1400</td>\n",
              "      <td>Q2</td>\n",
              "      <td>NaN</td>\n",
              "      <td>5446.868389</td>\n",
              "    </tr>\n",
              "  </tbody>\n",
              "</table>\n",
              "</div>"
            ],
            "text/plain": [
              "    quarter  electricity_consumption  year season      trend  seasonality\n",
              "1   1387-Q2                    13338  1387     Q2        NaN  5446.868389\n",
              "5   1388-Q2                    16834  1388     Q2  14280.625  5446.868389\n",
              "9   1389-Q2                    18656  1389     Q2  15370.500  5446.868389\n",
              "13  1390-Q2                    18518  1390     Q2  14781.500  5446.868389\n",
              "17  1391-Q2                    18254  1391     Q2  15080.000  5446.868389\n",
              "21  1392-Q2                    20920  1392     Q2  16434.375  5446.868389\n",
              "25  1393-Q2                    22209  1393     Q2  17683.000  5446.868389\n",
              "29  1394-Q2                    25563  1394     Q2  19267.250  5446.868389\n",
              "33  1395-Q2                    26391  1395     Q2  19455.625  5446.868389\n",
              "37  1396-Q2                    28016  1396     Q2  20824.125  5446.868389\n",
              "41  1397-Q2                    28755  1397     Q2  21658.625  5446.868389\n",
              "45  1398-Q2                    29449  1398     Q2  22167.500  5446.868389\n",
              "49  1399-Q2                    32157  1399     Q2  23212.625  5446.868389\n",
              "53  1400-Q2                    34645  1400     Q2        NaN  5446.868389"
            ]
          },
          "execution_count": 119,
          "metadata": {},
          "output_type": "execute_result"
        }
      ],
      "source": [
        "data[(data['season']=='Q2')]"
      ]
    },
    {
      "cell_type": "code",
      "execution_count": null,
      "id": "539f025e-692a-4774-935e-f9eb6dd0d3d7",
      "metadata": {
        "id": "539f025e-692a-4774-935e-f9eb6dd0d3d7"
      },
      "outputs": [],
      "source": [
        "#soale4 gozine 1"
      ]
    },
    {
      "cell_type": "code",
      "execution_count": null,
      "id": "620ba637-abfb-4a7c-abca-3f8f31bf63b1",
      "metadata": {
        "id": "620ba637-abfb-4a7c-abca-3f8f31bf63b1",
        "outputId": "0f74a02c-51b5-442d-a586-3b278a697563"
      },
      "outputs": [
        {
          "name": "stdout",
          "output_type": "stream",
          "text": [
            "[ 1.          0.34624744 -0.06509466  0.34105417  0.82832785  0.25966017\n",
            " -0.09155808  0.26017073  0.67944702  0.18212313 -0.12497783  0.19571882\n",
            "  0.55141331]\n",
            "[ 1.          0.35278041 -0.21935149  0.56103519  0.81554477 -0.25637903\n",
            " -0.13409028 -0.2646253   0.17720031 -0.03245087 -0.0184851  -0.03523885\n",
            "  0.02060381]\n"
          ]
        }
      ],
      "source": [
        "from statsmodels.tsa.stattools import acf,pacf\n",
        "acf_36=acf(data['electricity_consumption'],nlags=12)\n",
        "pacf_36=pacf(data['electricity_consumption'],nlags=12)\n",
        "print(acf_36)\n",
        "print(pacf_36)"
      ]
    },
    {
      "cell_type": "code",
      "execution_count": null,
      "id": "636c5128-22e9-4db4-ba09-8552ed9dfead",
      "metadata": {
        "id": "636c5128-22e9-4db4-ba09-8552ed9dfead",
        "outputId": "da14585f-bf61-449d-bc9f-3c8f80a2af88"
      },
      "outputs": [
        {
          "data": {
            "image/png": "[encoded data removed]",
            "text/plain": [
              "<Figure size 640x480 with 1 Axes>"
            ]
          },
          "metadata": {},
          "output_type": "display_data"
        }
      ],
      "source": [
        "from statsmodels.graphics.tsaplots import plot_acf\n",
        "plot_acf(data['electricity_consumption'],lags=12,bartlett_confint = False)\n",
        "plt.grid()\n",
        "plt.show()"
      ]
    },
    {
      "cell_type": "code",
      "execution_count": null,
      "id": "01ae8b35-4e88-42c6-9779-f2786ecb2083",
      "metadata": {
        "id": "01ae8b35-4e88-42c6-9779-f2786ecb2083",
        "outputId": "77e240ae-24e8-446b-ea44-a4bae635c7cf"
      },
      "outputs": [
        {
          "data": {
            "image/png": "[encoded data removed]",
            "text/plain": [
              "<Figure size 640x480 with 1 Axes>"
            ]
          },
          "metadata": {},
          "output_type": "display_data"
        }
      ],
      "source": [
        "from statsmodels.graphics.tsaplots import plot_pacf\n",
        "plot_pacf(data['electricity_consumption'],lags=12,method='ywm')\n",
        "plt.grid()\n",
        "plt.show()"
      ]
    },
    {
      "cell_type": "code",
      "execution_count": null,
      "id": "21ad6d26-f4e3-46e1-a227-3f74c362baf7",
      "metadata": {
        "id": "21ad6d26-f4e3-46e1-a227-3f74c362baf7"
      },
      "outputs": [],
      "source": [
        "#soale5 gozine 3"
      ]
    },
    {
      "cell_type": "code",
      "execution_count": null,
      "id": "8e24fa97-8046-4dbe-9235-65da65e0a3c8",
      "metadata": {
        "id": "8e24fa97-8046-4dbe-9235-65da65e0a3c8",
        "outputId": "8d81f832-5a71-40d8-9a06-2724810e26ff"
      },
      "outputs": [
        {
          "data": {
            "text/plain": [
              "(54, 6)"
            ]
          },
          "execution_count": 125,
          "metadata": {},
          "output_type": "execute_result"
        }
      ],
      "source": [
        "data.shape"
      ]
    },
    {
      "cell_type": "code",
      "execution_count": null,
      "id": "20d06fa3-6ada-458c-8acd-e50f8c819acd",
      "metadata": {
        "id": "20d06fa3-6ada-458c-8acd-e50f8c819acd"
      },
      "outputs": [],
      "source": [
        "data['trend']=np.arange(1,data.shape[0]+1)"
      ]
    },
    {
      "cell_type": "code",
      "execution_count": null,
      "id": "ff818b35-0243-45ce-8e1b-0e746ad9260a",
      "metadata": {
        "id": "ff818b35-0243-45ce-8e1b-0e746ad9260a",
        "outputId": "6dc6d60f-4b12-4fc1-b061-5e4de9a634d6"
      },
      "outputs": [
        {
          "data": {
            "text/html": [
              "<div>\n",
              "<style scoped>\n",
              "    .dataframe tbody tr th:only-of-type {\n",
              "        vertical-align: middle;\n",
              "    }\n",
              "\n",
              "    .dataframe tbody tr th {\n",
              "        vertical-align: top;\n",
              "    }\n",
              "\n",
              "    .dataframe thead th {\n",
              "        text-align: right;\n",
              "    }\n",
              "</style>\n",
              "<table border=\"1\" class=\"dataframe\">\n",
              "  <thead>\n",
              "    <tr style=\"text-align: right;\">\n",
              "      <th></th>\n",
              "      <th>quarter</th>\n",
              "      <th>electricity_consumption</th>\n",
              "      <th>year</th>\n",
              "      <th>season</th>\n",
              "      <th>trend</th>\n",
              "      <th>seasonality</th>\n",
              "    </tr>\n",
              "  </thead>\n",
              "  <tbody>\n",
              "    <tr>\n",
              "      <th>0</th>\n",
              "      <td>1387-Q1</td>\n",
              "      <td>12574</td>\n",
              "      <td>1387</td>\n",
              "      <td>Q1</td>\n",
              "      <td>1</td>\n",
              "      <td>-2084.204527</td>\n",
              "    </tr>\n",
              "    <tr>\n",
              "      <th>1</th>\n",
              "      <td>1387-Q2</td>\n",
              "      <td>13338</td>\n",
              "      <td>1387</td>\n",
              "      <td>Q2</td>\n",
              "      <td>2</td>\n",
              "      <td>5446.868389</td>\n",
              "    </tr>\n",
              "    <tr>\n",
              "      <th>2</th>\n",
              "      <td>1387-Q3</td>\n",
              "      <td>12821</td>\n",
              "      <td>1387</td>\n",
              "      <td>Q3</td>\n",
              "      <td>3</td>\n",
              "      <td>204.869992</td>\n",
              "    </tr>\n",
              "    <tr>\n",
              "      <th>3</th>\n",
              "      <td>1387-Q4</td>\n",
              "      <td>14511</td>\n",
              "      <td>1387</td>\n",
              "      <td>Q4</td>\n",
              "      <td>4</td>\n",
              "      <td>-3567.533854</td>\n",
              "    </tr>\n",
              "    <tr>\n",
              "      <th>4</th>\n",
              "      <td>1388-Q1</td>\n",
              "      <td>13392</td>\n",
              "      <td>1388</td>\n",
              "      <td>Q1</td>\n",
              "      <td>5</td>\n",
              "      <td>-2084.204527</td>\n",
              "    </tr>\n",
              "  </tbody>\n",
              "</table>\n",
              "</div>"
            ],
            "text/plain": [
              "   quarter  electricity_consumption  year season  trend  seasonality\n",
              "0  1387-Q1                    12574  1387     Q1      1 -2084.204527\n",
              "1  1387-Q2                    13338  1387     Q2      2  5446.868389\n",
              "2  1387-Q3                    12821  1387     Q3      3   204.869992\n",
              "3  1387-Q4                    14511  1387     Q4      4 -3567.533854\n",
              "4  1388-Q1                    13392  1388     Q1      5 -2084.204527"
            ]
          },
          "execution_count": 127,
          "metadata": {},
          "output_type": "execute_result"
        }
      ],
      "source": [
        "data.head()"
      ]
    },
    {
      "cell_type": "code",
      "execution_count": null,
      "id": "2a0d23aa-9c0e-4831-a4ae-005c35378f87",
      "metadata": {
        "id": "2a0d23aa-9c0e-4831-a4ae-005c35378f87",
        "outputId": "0f015d55-a336-4328-d801-fd29ac300742"
      },
      "outputs": [
        {
          "data": {
            "text/html": [
              "<div>\n",
              "<style scoped>\n",
              "    .dataframe tbody tr th:only-of-type {\n",
              "        vertical-align: middle;\n",
              "    }\n",
              "\n",
              "    .dataframe tbody tr th {\n",
              "        vertical-align: top;\n",
              "    }\n",
              "\n",
              "    .dataframe thead th {\n",
              "        text-align: right;\n",
              "    }\n",
              "</style>\n",
              "<table border=\"1\" class=\"dataframe\">\n",
              "  <thead>\n",
              "    <tr style=\"text-align: right;\">\n",
              "      <th></th>\n",
              "      <th>Q2</th>\n",
              "      <th>Q3</th>\n",
              "      <th>Q4</th>\n",
              "    </tr>\n",
              "  </thead>\n",
              "  <tbody>\n",
              "    <tr>\n",
              "      <th>0</th>\n",
              "      <td>False</td>\n",
              "      <td>False</td>\n",
              "      <td>False</td>\n",
              "    </tr>\n",
              "    <tr>\n",
              "      <th>1</th>\n",
              "      <td>True</td>\n",
              "      <td>False</td>\n",
              "      <td>False</td>\n",
              "    </tr>\n",
              "    <tr>\n",
              "      <th>2</th>\n",
              "      <td>False</td>\n",
              "      <td>True</td>\n",
              "      <td>False</td>\n",
              "    </tr>\n",
              "    <tr>\n",
              "      <th>3</th>\n",
              "      <td>False</td>\n",
              "      <td>False</td>\n",
              "      <td>True</td>\n",
              "    </tr>\n",
              "    <tr>\n",
              "      <th>4</th>\n",
              "      <td>False</td>\n",
              "      <td>False</td>\n",
              "      <td>False</td>\n",
              "    </tr>\n",
              "  </tbody>\n",
              "</table>\n",
              "</div>"
            ],
            "text/plain": [
              "      Q2     Q3     Q4\n",
              "0  False  False  False\n",
              "1   True  False  False\n",
              "2  False   True  False\n",
              "3  False  False   True\n",
              "4  False  False  False"
            ]
          },
          "execution_count": 128,
          "metadata": {},
          "output_type": "execute_result"
        }
      ],
      "source": [
        "dummy_vars=pd.get_dummies(data['season']).reindex(columns=data['season'].unique())\n",
        "dummy_vars.drop(columns='Q1',inplace=True)\n",
        "dummy_vars.head()"
      ]
    },
    {
      "cell_type": "code",
      "execution_count": null,
      "id": "afb7cf98-39d4-434f-90de-c35f859cab9a",
      "metadata": {
        "id": "afb7cf98-39d4-434f-90de-c35f859cab9a",
        "outputId": "ec5469dc-8b22-4542-dea7-d965140b3e86"
      },
      "outputs": [
        {
          "data": {
            "text/html": [
              "<div>\n",
              "<style scoped>\n",
              "    .dataframe tbody tr th:only-of-type {\n",
              "        vertical-align: middle;\n",
              "    }\n",
              "\n",
              "    .dataframe tbody tr th {\n",
              "        vertical-align: top;\n",
              "    }\n",
              "\n",
              "    .dataframe thead th {\n",
              "        text-align: right;\n",
              "    }\n",
              "</style>\n",
              "<table border=\"1\" class=\"dataframe\">\n",
              "  <thead>\n",
              "    <tr style=\"text-align: right;\">\n",
              "      <th></th>\n",
              "      <th>q2</th>\n",
              "      <th>q3</th>\n",
              "      <th>q4</th>\n",
              "    </tr>\n",
              "  </thead>\n",
              "  <tbody>\n",
              "    <tr>\n",
              "      <th>0</th>\n",
              "      <td>False</td>\n",
              "      <td>False</td>\n",
              "      <td>False</td>\n",
              "    </tr>\n",
              "    <tr>\n",
              "      <th>1</th>\n",
              "      <td>True</td>\n",
              "      <td>False</td>\n",
              "      <td>False</td>\n",
              "    </tr>\n",
              "    <tr>\n",
              "      <th>2</th>\n",
              "      <td>False</td>\n",
              "      <td>True</td>\n",
              "      <td>False</td>\n",
              "    </tr>\n",
              "    <tr>\n",
              "      <th>3</th>\n",
              "      <td>False</td>\n",
              "      <td>False</td>\n",
              "      <td>True</td>\n",
              "    </tr>\n",
              "    <tr>\n",
              "      <th>4</th>\n",
              "      <td>False</td>\n",
              "      <td>False</td>\n",
              "      <td>False</td>\n",
              "    </tr>\n",
              "  </tbody>\n",
              "</table>\n",
              "</div>"
            ],
            "text/plain": [
              "      q2     q3     q4\n",
              "0  False  False  False\n",
              "1   True  False  False\n",
              "2  False   True  False\n",
              "3  False  False   True\n",
              "4  False  False  False"
            ]
          },
          "execution_count": 129,
          "metadata": {},
          "output_type": "execute_result"
        }
      ],
      "source": [
        "dummy_vars.columns=[_.lower() for _ in dummy_vars.columns]\n",
        "dummy_vars.head()"
      ]
    },
    {
      "cell_type": "code",
      "execution_count": null,
      "id": "f32cfd2c-4793-45f9-8e6b-5a2de1f2956b",
      "metadata": {
        "id": "f32cfd2c-4793-45f9-8e6b-5a2de1f2956b",
        "outputId": "e9ae945b-1764-42d6-a118-e989d3efaf19"
      },
      "outputs": [
        {
          "data": {
            "text/html": [
              "<div>\n",
              "<style scoped>\n",
              "    .dataframe tbody tr th:only-of-type {\n",
              "        vertical-align: middle;\n",
              "    }\n",
              "\n",
              "    .dataframe tbody tr th {\n",
              "        vertical-align: top;\n",
              "    }\n",
              "\n",
              "    .dataframe thead th {\n",
              "        text-align: right;\n",
              "    }\n",
              "</style>\n",
              "<table border=\"1\" class=\"dataframe\">\n",
              "  <thead>\n",
              "    <tr style=\"text-align: right;\">\n",
              "      <th></th>\n",
              "      <th>quarter</th>\n",
              "      <th>electricity_consumption</th>\n",
              "      <th>year</th>\n",
              "      <th>season</th>\n",
              "      <th>trend</th>\n",
              "      <th>seasonality</th>\n",
              "      <th>q2</th>\n",
              "      <th>q3</th>\n",
              "      <th>q4</th>\n",
              "    </tr>\n",
              "  </thead>\n",
              "  <tbody>\n",
              "    <tr>\n",
              "      <th>0</th>\n",
              "      <td>1387-Q1</td>\n",
              "      <td>12574</td>\n",
              "      <td>1387</td>\n",
              "      <td>Q1</td>\n",
              "      <td>1</td>\n",
              "      <td>-2084.204527</td>\n",
              "      <td>False</td>\n",
              "      <td>False</td>\n",
              "      <td>False</td>\n",
              "    </tr>\n",
              "    <tr>\n",
              "      <th>1</th>\n",
              "      <td>1387-Q2</td>\n",
              "      <td>13338</td>\n",
              "      <td>1387</td>\n",
              "      <td>Q2</td>\n",
              "      <td>2</td>\n",
              "      <td>5446.868389</td>\n",
              "      <td>True</td>\n",
              "      <td>False</td>\n",
              "      <td>False</td>\n",
              "    </tr>\n",
              "    <tr>\n",
              "      <th>2</th>\n",
              "      <td>1387-Q3</td>\n",
              "      <td>12821</td>\n",
              "      <td>1387</td>\n",
              "      <td>Q3</td>\n",
              "      <td>3</td>\n",
              "      <td>204.869992</td>\n",
              "      <td>False</td>\n",
              "      <td>True</td>\n",
              "      <td>False</td>\n",
              "    </tr>\n",
              "    <tr>\n",
              "      <th>3</th>\n",
              "      <td>1387-Q4</td>\n",
              "      <td>14511</td>\n",
              "      <td>1387</td>\n",
              "      <td>Q4</td>\n",
              "      <td>4</td>\n",
              "      <td>-3567.533854</td>\n",
              "      <td>False</td>\n",
              "      <td>False</td>\n",
              "      <td>True</td>\n",
              "    </tr>\n",
              "    <tr>\n",
              "      <th>4</th>\n",
              "      <td>1388-Q1</td>\n",
              "      <td>13392</td>\n",
              "      <td>1388</td>\n",
              "      <td>Q1</td>\n",
              "      <td>5</td>\n",
              "      <td>-2084.204527</td>\n",
              "      <td>False</td>\n",
              "      <td>False</td>\n",
              "      <td>False</td>\n",
              "    </tr>\n",
              "  </tbody>\n",
              "</table>\n",
              "</div>"
            ],
            "text/plain": [
              "   quarter  electricity_consumption  year season  trend  seasonality     q2  \\\n",
              "0  1387-Q1                    12574  1387     Q1      1 -2084.204527  False   \n",
              "1  1387-Q2                    13338  1387     Q2      2  5446.868389   True   \n",
              "2  1387-Q3                    12821  1387     Q3      3   204.869992  False   \n",
              "3  1387-Q4                    14511  1387     Q4      4 -3567.533854  False   \n",
              "4  1388-Q1                    13392  1388     Q1      5 -2084.204527  False   \n",
              "\n",
              "      q3     q4  \n",
              "0  False  False  \n",
              "1  False  False  \n",
              "2   True  False  \n",
              "3  False   True  \n",
              "4  False  False  "
            ]
          },
          "execution_count": 130,
          "metadata": {},
          "output_type": "execute_result"
        }
      ],
      "source": [
        "data=pd.concat([data,dummy_vars],axis=1)\n",
        "data.head()"
      ]
    },
    {
      "cell_type": "code",
      "execution_count": null,
      "id": "444b3d21-4ac2-47d1-921a-078ab0471793",
      "metadata": {
        "id": "444b3d21-4ac2-47d1-921a-078ab0471793",
        "outputId": "02fd9768-5170-4d12-ff4b-2f459a04d04f"
      },
      "outputs": [
        {
          "data": {
            "text/html": [
              "<div>\n",
              "<style scoped>\n",
              "    .dataframe tbody tr th:only-of-type {\n",
              "        vertical-align: middle;\n",
              "    }\n",
              "\n",
              "    .dataframe tbody tr th {\n",
              "        vertical-align: top;\n",
              "    }\n",
              "\n",
              "    .dataframe thead th {\n",
              "        text-align: right;\n",
              "    }\n",
              "</style>\n",
              "<table border=\"1\" class=\"dataframe\">\n",
              "  <thead>\n",
              "    <tr style=\"text-align: right;\">\n",
              "      <th></th>\n",
              "      <th>quarter</th>\n",
              "      <th>electricity_consumption</th>\n",
              "      <th>year</th>\n",
              "      <th>season</th>\n",
              "      <th>trend</th>\n",
              "      <th>seasonality</th>\n",
              "      <th>q2</th>\n",
              "      <th>q3</th>\n",
              "      <th>q4</th>\n",
              "      <th>lag_1</th>\n",
              "      <th>lag_3</th>\n",
              "      <th>lag_4</th>\n",
              "    </tr>\n",
              "  </thead>\n",
              "  <tbody>\n",
              "    <tr>\n",
              "      <th>0</th>\n",
              "      <td>1387-Q1</td>\n",
              "      <td>12574</td>\n",
              "      <td>1387</td>\n",
              "      <td>Q1</td>\n",
              "      <td>1</td>\n",
              "      <td>-2084.204527</td>\n",
              "      <td>False</td>\n",
              "      <td>False</td>\n",
              "      <td>False</td>\n",
              "      <td>NaN</td>\n",
              "      <td>NaN</td>\n",
              "      <td>NaN</td>\n",
              "    </tr>\n",
              "    <tr>\n",
              "      <th>1</th>\n",
              "      <td>1387-Q2</td>\n",
              "      <td>13338</td>\n",
              "      <td>1387</td>\n",
              "      <td>Q2</td>\n",
              "      <td>2</td>\n",
              "      <td>5446.868389</td>\n",
              "      <td>True</td>\n",
              "      <td>False</td>\n",
              "      <td>False</td>\n",
              "      <td>12574.0</td>\n",
              "      <td>NaN</td>\n",
              "      <td>NaN</td>\n",
              "    </tr>\n",
              "    <tr>\n",
              "      <th>2</th>\n",
              "      <td>1387-Q3</td>\n",
              "      <td>12821</td>\n",
              "      <td>1387</td>\n",
              "      <td>Q3</td>\n",
              "      <td>3</td>\n",
              "      <td>204.869992</td>\n",
              "      <td>False</td>\n",
              "      <td>True</td>\n",
              "      <td>False</td>\n",
              "      <td>13338.0</td>\n",
              "      <td>NaN</td>\n",
              "      <td>NaN</td>\n",
              "    </tr>\n",
              "    <tr>\n",
              "      <th>3</th>\n",
              "      <td>1387-Q4</td>\n",
              "      <td>14511</td>\n",
              "      <td>1387</td>\n",
              "      <td>Q4</td>\n",
              "      <td>4</td>\n",
              "      <td>-3567.533854</td>\n",
              "      <td>False</td>\n",
              "      <td>False</td>\n",
              "      <td>True</td>\n",
              "      <td>12821.0</td>\n",
              "      <td>12574.0</td>\n",
              "      <td>NaN</td>\n",
              "    </tr>\n",
              "    <tr>\n",
              "      <th>4</th>\n",
              "      <td>1388-Q1</td>\n",
              "      <td>13392</td>\n",
              "      <td>1388</td>\n",
              "      <td>Q1</td>\n",
              "      <td>5</td>\n",
              "      <td>-2084.204527</td>\n",
              "      <td>False</td>\n",
              "      <td>False</td>\n",
              "      <td>False</td>\n",
              "      <td>14511.0</td>\n",
              "      <td>13338.0</td>\n",
              "      <td>12574.0</td>\n",
              "    </tr>\n",
              "  </tbody>\n",
              "</table>\n",
              "</div>"
            ],
            "text/plain": [
              "   quarter  electricity_consumption  year season  trend  seasonality     q2  \\\n",
              "0  1387-Q1                    12574  1387     Q1      1 -2084.204527  False   \n",
              "1  1387-Q2                    13338  1387     Q2      2  5446.868389   True   \n",
              "2  1387-Q3                    12821  1387     Q3      3   204.869992  False   \n",
              "3  1387-Q4                    14511  1387     Q4      4 -3567.533854  False   \n",
              "4  1388-Q1                    13392  1388     Q1      5 -2084.204527  False   \n",
              "\n",
              "      q3     q4    lag_1    lag_3    lag_4  \n",
              "0  False  False      NaN      NaN      NaN  \n",
              "1  False  False  12574.0      NaN      NaN  \n",
              "2   True  False  13338.0      NaN      NaN  \n",
              "3  False   True  12821.0  12574.0      NaN  \n",
              "4  False  False  14511.0  13338.0  12574.0  "
            ]
          },
          "execution_count": 131,
          "metadata": {},
          "output_type": "execute_result"
        }
      ],
      "source": [
        "lags=[1,3,4]\n",
        "for i in range(len(lags)):\n",
        "    data['lag_'+ str(lags[i])]=data['electricity_consumption'].shift(lags[i])\n",
        "\n",
        "data.head()"
      ]
    },
    {
      "cell_type": "code",
      "execution_count": null,
      "id": "f996a1d9-7e2f-4cc4-aef3-625fd383363e",
      "metadata": {
        "id": "f996a1d9-7e2f-4cc4-aef3-625fd383363e"
      },
      "outputs": [],
      "source": [
        "data.drop(columns='seasonality',inplace=True)"
      ]
    },
    {
      "cell_type": "code",
      "execution_count": null,
      "id": "cc2d58f0-b129-4a14-abde-223d57aa34a7",
      "metadata": {
        "id": "cc2d58f0-b129-4a14-abde-223d57aa34a7",
        "outputId": "93a10986-0c00-4cdd-a9f9-153980020884"
      },
      "outputs": [
        {
          "data": {
            "text/html": [
              "<div>\n",
              "<style scoped>\n",
              "    .dataframe tbody tr th:only-of-type {\n",
              "        vertical-align: middle;\n",
              "    }\n",
              "\n",
              "    .dataframe tbody tr th {\n",
              "        vertical-align: top;\n",
              "    }\n",
              "\n",
              "    .dataframe thead th {\n",
              "        text-align: right;\n",
              "    }\n",
              "</style>\n",
              "<table border=\"1\" class=\"dataframe\">\n",
              "  <thead>\n",
              "    <tr style=\"text-align: right;\">\n",
              "      <th></th>\n",
              "      <th>quarter</th>\n",
              "      <th>electricity_consumption</th>\n",
              "      <th>year</th>\n",
              "      <th>season</th>\n",
              "      <th>trend</th>\n",
              "      <th>q2</th>\n",
              "      <th>q3</th>\n",
              "      <th>q4</th>\n",
              "      <th>lag_1</th>\n",
              "      <th>lag_3</th>\n",
              "      <th>lag_4</th>\n",
              "    </tr>\n",
              "  </thead>\n",
              "  <tbody>\n",
              "    <tr>\n",
              "      <th>4</th>\n",
              "      <td>1388-Q1</td>\n",
              "      <td>13392</td>\n",
              "      <td>1388</td>\n",
              "      <td>Q1</td>\n",
              "      <td>5</td>\n",
              "      <td>False</td>\n",
              "      <td>False</td>\n",
              "      <td>False</td>\n",
              "      <td>14511.0</td>\n",
              "      <td>13338.0</td>\n",
              "      <td>12574.0</td>\n",
              "    </tr>\n",
              "    <tr>\n",
              "      <th>5</th>\n",
              "      <td>1388-Q2</td>\n",
              "      <td>16834</td>\n",
              "      <td>1388</td>\n",
              "      <td>Q2</td>\n",
              "      <td>6</td>\n",
              "      <td>True</td>\n",
              "      <td>False</td>\n",
              "      <td>False</td>\n",
              "      <td>13392.0</td>\n",
              "      <td>12821.0</td>\n",
              "      <td>13338.0</td>\n",
              "    </tr>\n",
              "    <tr>\n",
              "      <th>6</th>\n",
              "      <td>1388-Q3</td>\n",
              "      <td>12723</td>\n",
              "      <td>1388</td>\n",
              "      <td>Q3</td>\n",
              "      <td>7</td>\n",
              "      <td>False</td>\n",
              "      <td>True</td>\n",
              "      <td>False</td>\n",
              "      <td>16834.0</td>\n",
              "      <td>14511.0</td>\n",
              "      <td>12821.0</td>\n",
              "    </tr>\n",
              "    <tr>\n",
              "      <th>7</th>\n",
              "      <td>1388-Q4</td>\n",
              "      <td>13836</td>\n",
              "      <td>1388</td>\n",
              "      <td>Q4</td>\n",
              "      <td>8</td>\n",
              "      <td>False</td>\n",
              "      <td>False</td>\n",
              "      <td>True</td>\n",
              "      <td>12723.0</td>\n",
              "      <td>13392.0</td>\n",
              "      <td>14511.0</td>\n",
              "    </tr>\n",
              "    <tr>\n",
              "      <th>8</th>\n",
              "      <td>1389-Q1</td>\n",
              "      <td>14591</td>\n",
              "      <td>1389</td>\n",
              "      <td>Q1</td>\n",
              "      <td>9</td>\n",
              "      <td>False</td>\n",
              "      <td>False</td>\n",
              "      <td>False</td>\n",
              "      <td>13836.0</td>\n",
              "      <td>16834.0</td>\n",
              "      <td>13392.0</td>\n",
              "    </tr>\n",
              "  </tbody>\n",
              "</table>\n",
              "</div>"
            ],
            "text/plain": [
              "   quarter  electricity_consumption  year season  trend     q2     q3     q4  \\\n",
              "4  1388-Q1                    13392  1388     Q1      5  False  False  False   \n",
              "5  1388-Q2                    16834  1388     Q2      6   True  False  False   \n",
              "6  1388-Q3                    12723  1388     Q3      7  False   True  False   \n",
              "7  1388-Q4                    13836  1388     Q4      8  False  False   True   \n",
              "8  1389-Q1                    14591  1389     Q1      9  False  False  False   \n",
              "\n",
              "     lag_1    lag_3    lag_4  \n",
              "4  14511.0  13338.0  12574.0  \n",
              "5  13392.0  12821.0  13338.0  \n",
              "6  16834.0  14511.0  12821.0  \n",
              "7  12723.0  13392.0  14511.0  \n",
              "8  13836.0  16834.0  13392.0  "
            ]
          },
          "execution_count": 133,
          "metadata": {},
          "output_type": "execute_result"
        }
      ],
      "source": [
        "data.dropna(axis=0,inplace=True)\n",
        "data.head()"
      ]
    },
    {
      "cell_type": "code",
      "execution_count": null,
      "id": "f40d5dca-fb44-45f7-9015-d475a83094c7",
      "metadata": {
        "id": "f40d5dca-fb44-45f7-9015-d475a83094c7",
        "outputId": "9bccfc7d-28d0-4728-8806-132da1ef67a2"
      },
      "outputs": [
        {
          "data": {
            "text/html": [
              "<div>\n",
              "<style scoped>\n",
              "    .dataframe tbody tr th:only-of-type {\n",
              "        vertical-align: middle;\n",
              "    }\n",
              "\n",
              "    .dataframe tbody tr th {\n",
              "        vertical-align: top;\n",
              "    }\n",
              "\n",
              "    .dataframe thead th {\n",
              "        text-align: right;\n",
              "    }\n",
              "</style>\n",
              "<table border=\"1\" class=\"dataframe\">\n",
              "  <thead>\n",
              "    <tr style=\"text-align: right;\">\n",
              "      <th></th>\n",
              "      <th>quarter</th>\n",
              "      <th>electricity_consumption</th>\n",
              "      <th>year</th>\n",
              "      <th>season</th>\n",
              "      <th>trend</th>\n",
              "      <th>q2</th>\n",
              "      <th>q3</th>\n",
              "      <th>q4</th>\n",
              "      <th>lag_1</th>\n",
              "      <th>lag_3</th>\n",
              "      <th>lag_4</th>\n",
              "    </tr>\n",
              "  </thead>\n",
              "  <tbody>\n",
              "    <tr>\n",
              "      <th>0</th>\n",
              "      <td>1388-Q1</td>\n",
              "      <td>13392</td>\n",
              "      <td>1388</td>\n",
              "      <td>Q1</td>\n",
              "      <td>5</td>\n",
              "      <td>False</td>\n",
              "      <td>False</td>\n",
              "      <td>False</td>\n",
              "      <td>14511.0</td>\n",
              "      <td>13338.0</td>\n",
              "      <td>12574.0</td>\n",
              "    </tr>\n",
              "    <tr>\n",
              "      <th>1</th>\n",
              "      <td>1388-Q2</td>\n",
              "      <td>16834</td>\n",
              "      <td>1388</td>\n",
              "      <td>Q2</td>\n",
              "      <td>6</td>\n",
              "      <td>True</td>\n",
              "      <td>False</td>\n",
              "      <td>False</td>\n",
              "      <td>13392.0</td>\n",
              "      <td>12821.0</td>\n",
              "      <td>13338.0</td>\n",
              "    </tr>\n",
              "    <tr>\n",
              "      <th>2</th>\n",
              "      <td>1388-Q3</td>\n",
              "      <td>12723</td>\n",
              "      <td>1388</td>\n",
              "      <td>Q3</td>\n",
              "      <td>7</td>\n",
              "      <td>False</td>\n",
              "      <td>True</td>\n",
              "      <td>False</td>\n",
              "      <td>16834.0</td>\n",
              "      <td>14511.0</td>\n",
              "      <td>12821.0</td>\n",
              "    </tr>\n",
              "    <tr>\n",
              "      <th>3</th>\n",
              "      <td>1388-Q4</td>\n",
              "      <td>13836</td>\n",
              "      <td>1388</td>\n",
              "      <td>Q4</td>\n",
              "      <td>8</td>\n",
              "      <td>False</td>\n",
              "      <td>False</td>\n",
              "      <td>True</td>\n",
              "      <td>12723.0</td>\n",
              "      <td>13392.0</td>\n",
              "      <td>14511.0</td>\n",
              "    </tr>\n",
              "    <tr>\n",
              "      <th>4</th>\n",
              "      <td>1389-Q1</td>\n",
              "      <td>14591</td>\n",
              "      <td>1389</td>\n",
              "      <td>Q1</td>\n",
              "      <td>9</td>\n",
              "      <td>False</td>\n",
              "      <td>False</td>\n",
              "      <td>False</td>\n",
              "      <td>13836.0</td>\n",
              "      <td>16834.0</td>\n",
              "      <td>13392.0</td>\n",
              "    </tr>\n",
              "  </tbody>\n",
              "</table>\n",
              "</div>"
            ],
            "text/plain": [
              "   quarter  electricity_consumption  year season  trend     q2     q3     q4  \\\n",
              "0  1388-Q1                    13392  1388     Q1      5  False  False  False   \n",
              "1  1388-Q2                    16834  1388     Q2      6   True  False  False   \n",
              "2  1388-Q3                    12723  1388     Q3      7  False   True  False   \n",
              "3  1388-Q4                    13836  1388     Q4      8  False  False   True   \n",
              "4  1389-Q1                    14591  1389     Q1      9  False  False  False   \n",
              "\n",
              "     lag_1    lag_3    lag_4  \n",
              "0  14511.0  13338.0  12574.0  \n",
              "1  13392.0  12821.0  13338.0  \n",
              "2  16834.0  14511.0  12821.0  \n",
              "3  12723.0  13392.0  14511.0  \n",
              "4  13836.0  16834.0  13392.0  "
            ]
          },
          "execution_count": 134,
          "metadata": {},
          "output_type": "execute_result"
        }
      ],
      "source": [
        "data.index=range(data.shape[0])\n",
        "data.head()"
      ]
    },
    {
      "cell_type": "code",
      "execution_count": null,
      "id": "a6d320be-a7f2-49b1-a38b-938108a1e67c",
      "metadata": {
        "id": "a6d320be-a7f2-49b1-a38b-938108a1e67c",
        "outputId": "04db0653-97bc-4669-c159-666642a412a4"
      },
      "outputs": [
        {
          "data": {
            "text/html": [
              "<div>\n",
              "<style scoped>\n",
              "    .dataframe tbody tr th:only-of-type {\n",
              "        vertical-align: middle;\n",
              "    }\n",
              "\n",
              "    .dataframe tbody tr th {\n",
              "        vertical-align: top;\n",
              "    }\n",
              "\n",
              "    .dataframe thead th {\n",
              "        text-align: right;\n",
              "    }\n",
              "</style>\n",
              "<table border=\"1\" class=\"dataframe\">\n",
              "  <thead>\n",
              "    <tr style=\"text-align: right;\">\n",
              "      <th></th>\n",
              "      <th>quarter</th>\n",
              "      <th>electricity_consumption</th>\n",
              "      <th>year</th>\n",
              "      <th>season</th>\n",
              "      <th>trend</th>\n",
              "      <th>q2</th>\n",
              "      <th>q3</th>\n",
              "      <th>q4</th>\n",
              "      <th>lag_1</th>\n",
              "      <th>lag_3</th>\n",
              "      <th>lag_4</th>\n",
              "    </tr>\n",
              "  </thead>\n",
              "  <tbody>\n",
              "    <tr>\n",
              "      <th>0</th>\n",
              "      <td>1388-Q1</td>\n",
              "      <td>13392</td>\n",
              "      <td>1388</td>\n",
              "      <td>Q1</td>\n",
              "      <td>5</td>\n",
              "      <td>False</td>\n",
              "      <td>False</td>\n",
              "      <td>False</td>\n",
              "      <td>14511.0</td>\n",
              "      <td>13338.0</td>\n",
              "      <td>12574.0</td>\n",
              "    </tr>\n",
              "    <tr>\n",
              "      <th>1</th>\n",
              "      <td>1388-Q2</td>\n",
              "      <td>16834</td>\n",
              "      <td>1388</td>\n",
              "      <td>Q2</td>\n",
              "      <td>6</td>\n",
              "      <td>True</td>\n",
              "      <td>False</td>\n",
              "      <td>False</td>\n",
              "      <td>13392.0</td>\n",
              "      <td>12821.0</td>\n",
              "      <td>13338.0</td>\n",
              "    </tr>\n",
              "    <tr>\n",
              "      <th>2</th>\n",
              "      <td>1388-Q3</td>\n",
              "      <td>12723</td>\n",
              "      <td>1388</td>\n",
              "      <td>Q3</td>\n",
              "      <td>7</td>\n",
              "      <td>False</td>\n",
              "      <td>True</td>\n",
              "      <td>False</td>\n",
              "      <td>16834.0</td>\n",
              "      <td>14511.0</td>\n",
              "      <td>12821.0</td>\n",
              "    </tr>\n",
              "    <tr>\n",
              "      <th>3</th>\n",
              "      <td>1388-Q4</td>\n",
              "      <td>13836</td>\n",
              "      <td>1388</td>\n",
              "      <td>Q4</td>\n",
              "      <td>8</td>\n",
              "      <td>False</td>\n",
              "      <td>False</td>\n",
              "      <td>True</td>\n",
              "      <td>12723.0</td>\n",
              "      <td>13392.0</td>\n",
              "      <td>14511.0</td>\n",
              "    </tr>\n",
              "    <tr>\n",
              "      <th>4</th>\n",
              "      <td>1389-Q1</td>\n",
              "      <td>14591</td>\n",
              "      <td>1389</td>\n",
              "      <td>Q1</td>\n",
              "      <td>9</td>\n",
              "      <td>False</td>\n",
              "      <td>False</td>\n",
              "      <td>False</td>\n",
              "      <td>13836.0</td>\n",
              "      <td>16834.0</td>\n",
              "      <td>13392.0</td>\n",
              "    </tr>\n",
              "  </tbody>\n",
              "</table>\n",
              "</div>"
            ],
            "text/plain": [
              "   quarter  electricity_consumption  year season  trend     q2     q3     q4  \\\n",
              "0  1388-Q1                    13392  1388     Q1      5  False  False  False   \n",
              "1  1388-Q2                    16834  1388     Q2      6   True  False  False   \n",
              "2  1388-Q3                    12723  1388     Q3      7  False   True  False   \n",
              "3  1388-Q4                    13836  1388     Q4      8  False  False   True   \n",
              "4  1389-Q1                    14591  1389     Q1      9  False  False  False   \n",
              "\n",
              "     lag_1    lag_3    lag_4  \n",
              "0  14511.0  13338.0  12574.0  \n",
              "1  13392.0  12821.0  13338.0  \n",
              "2  16834.0  14511.0  12821.0  \n",
              "3  12723.0  13392.0  14511.0  \n",
              "4  13836.0  16834.0  13392.0  "
            ]
          },
          "execution_count": 135,
          "metadata": {},
          "output_type": "execute_result"
        }
      ],
      "source": [
        "data.head()"
      ]
    },
    {
      "cell_type": "code",
      "execution_count": null,
      "id": "d54d8b51-c112-4cd7-bbf8-c720b4f50bb0",
      "metadata": {
        "id": "d54d8b51-c112-4cd7-bbf8-c720b4f50bb0"
      },
      "outputs": [],
      "source": [
        "forecast_horizon=6\n",
        "train=data.iloc[:-forecast_horizon,:]\n",
        "test=data.iloc[-forecast_horizon :,:]"
      ]
    },
    {
      "cell_type": "code",
      "execution_count": null,
      "id": "3dbb458e-e820-409b-aa69-1ead8e28db8e",
      "metadata": {
        "id": "3dbb458e-e820-409b-aa69-1ead8e28db8e",
        "outputId": "1b3bc57d-e0b3-4ff2-d643-6d29cefaa467"
      },
      "outputs": [
        {
          "data": {
            "text/html": [
              "<div>\n",
              "<style scoped>\n",
              "    .dataframe tbody tr th:only-of-type {\n",
              "        vertical-align: middle;\n",
              "    }\n",
              "\n",
              "    .dataframe tbody tr th {\n",
              "        vertical-align: top;\n",
              "    }\n",
              "\n",
              "    .dataframe thead th {\n",
              "        text-align: right;\n",
              "    }\n",
              "</style>\n",
              "<table border=\"1\" class=\"dataframe\">\n",
              "  <thead>\n",
              "    <tr style=\"text-align: right;\">\n",
              "      <th></th>\n",
              "      <th>quarter</th>\n",
              "      <th>electricity_consumption</th>\n",
              "      <th>year</th>\n",
              "      <th>season</th>\n",
              "      <th>trend</th>\n",
              "      <th>q2</th>\n",
              "      <th>q3</th>\n",
              "      <th>q4</th>\n",
              "      <th>lag_1</th>\n",
              "      <th>lag_3</th>\n",
              "      <th>lag_4</th>\n",
              "    </tr>\n",
              "  </thead>\n",
              "  <tbody>\n",
              "    <tr>\n",
              "      <th>0</th>\n",
              "      <td>1388-Q1</td>\n",
              "      <td>13392</td>\n",
              "      <td>1388</td>\n",
              "      <td>Q1</td>\n",
              "      <td>5</td>\n",
              "      <td>False</td>\n",
              "      <td>False</td>\n",
              "      <td>False</td>\n",
              "      <td>14511.0</td>\n",
              "      <td>13338.0</td>\n",
              "      <td>12574.0</td>\n",
              "    </tr>\n",
              "    <tr>\n",
              "      <th>1</th>\n",
              "      <td>1388-Q2</td>\n",
              "      <td>16834</td>\n",
              "      <td>1388</td>\n",
              "      <td>Q2</td>\n",
              "      <td>6</td>\n",
              "      <td>True</td>\n",
              "      <td>False</td>\n",
              "      <td>False</td>\n",
              "      <td>13392.0</td>\n",
              "      <td>12821.0</td>\n",
              "      <td>13338.0</td>\n",
              "    </tr>\n",
              "    <tr>\n",
              "      <th>2</th>\n",
              "      <td>1388-Q3</td>\n",
              "      <td>12723</td>\n",
              "      <td>1388</td>\n",
              "      <td>Q3</td>\n",
              "      <td>7</td>\n",
              "      <td>False</td>\n",
              "      <td>True</td>\n",
              "      <td>False</td>\n",
              "      <td>16834.0</td>\n",
              "      <td>14511.0</td>\n",
              "      <td>12821.0</td>\n",
              "    </tr>\n",
              "    <tr>\n",
              "      <th>3</th>\n",
              "      <td>1388-Q4</td>\n",
              "      <td>13836</td>\n",
              "      <td>1388</td>\n",
              "      <td>Q4</td>\n",
              "      <td>8</td>\n",
              "      <td>False</td>\n",
              "      <td>False</td>\n",
              "      <td>True</td>\n",
              "      <td>12723.0</td>\n",
              "      <td>13392.0</td>\n",
              "      <td>14511.0</td>\n",
              "    </tr>\n",
              "    <tr>\n",
              "      <th>4</th>\n",
              "      <td>1389-Q1</td>\n",
              "      <td>14591</td>\n",
              "      <td>1389</td>\n",
              "      <td>Q1</td>\n",
              "      <td>9</td>\n",
              "      <td>False</td>\n",
              "      <td>False</td>\n",
              "      <td>False</td>\n",
              "      <td>13836.0</td>\n",
              "      <td>16834.0</td>\n",
              "      <td>13392.0</td>\n",
              "    </tr>\n",
              "    <tr>\n",
              "      <th>5</th>\n",
              "      <td>1389-Q2</td>\n",
              "      <td>18656</td>\n",
              "      <td>1389</td>\n",
              "      <td>Q2</td>\n",
              "      <td>10</td>\n",
              "      <td>True</td>\n",
              "      <td>False</td>\n",
              "      <td>False</td>\n",
              "      <td>14591.0</td>\n",
              "      <td>12723.0</td>\n",
              "      <td>16834.0</td>\n",
              "    </tr>\n",
              "    <tr>\n",
              "      <th>6</th>\n",
              "      <td>1389-Q3</td>\n",
              "      <td>14973</td>\n",
              "      <td>1389</td>\n",
              "      <td>Q3</td>\n",
              "      <td>11</td>\n",
              "      <td>False</td>\n",
              "      <td>True</td>\n",
              "      <td>False</td>\n",
              "      <td>18656.0</td>\n",
              "      <td>13836.0</td>\n",
              "      <td>12723.0</td>\n",
              "    </tr>\n",
              "    <tr>\n",
              "      <th>7</th>\n",
              "      <td>1389-Q4</td>\n",
              "      <td>12688</td>\n",
              "      <td>1389</td>\n",
              "      <td>Q4</td>\n",
              "      <td>12</td>\n",
              "      <td>False</td>\n",
              "      <td>False</td>\n",
              "      <td>True</td>\n",
              "      <td>14973.0</td>\n",
              "      <td>14591.0</td>\n",
              "      <td>13836.0</td>\n",
              "    </tr>\n",
              "    <tr>\n",
              "      <th>8</th>\n",
              "      <td>1390-Q1</td>\n",
              "      <td>13059</td>\n",
              "      <td>1390</td>\n",
              "      <td>Q1</td>\n",
              "      <td>13</td>\n",
              "      <td>False</td>\n",
              "      <td>False</td>\n",
              "      <td>False</td>\n",
              "      <td>12688.0</td>\n",
              "      <td>18656.0</td>\n",
              "      <td>14591.0</td>\n",
              "    </tr>\n",
              "    <tr>\n",
              "      <th>9</th>\n",
              "      <td>1390-Q2</td>\n",
              "      <td>18518</td>\n",
              "      <td>1390</td>\n",
              "      <td>Q2</td>\n",
              "      <td>14</td>\n",
              "      <td>True</td>\n",
              "      <td>False</td>\n",
              "      <td>False</td>\n",
              "      <td>13059.0</td>\n",
              "      <td>14973.0</td>\n",
              "      <td>18656.0</td>\n",
              "    </tr>\n",
              "    <tr>\n",
              "      <th>10</th>\n",
              "      <td>1390-Q3</td>\n",
              "      <td>15074</td>\n",
              "      <td>1390</td>\n",
              "      <td>Q3</td>\n",
              "      <td>15</td>\n",
              "      <td>False</td>\n",
              "      <td>True</td>\n",
              "      <td>False</td>\n",
              "      <td>18518.0</td>\n",
              "      <td>12688.0</td>\n",
              "      <td>14973.0</td>\n",
              "    </tr>\n",
              "    <tr>\n",
              "      <th>11</th>\n",
              "      <td>1390-Q4</td>\n",
              "      <td>12262</td>\n",
              "      <td>1390</td>\n",
              "      <td>Q4</td>\n",
              "      <td>16</td>\n",
              "      <td>False</td>\n",
              "      <td>False</td>\n",
              "      <td>True</td>\n",
              "      <td>15074.0</td>\n",
              "      <td>13059.0</td>\n",
              "      <td>12688.0</td>\n",
              "    </tr>\n",
              "    <tr>\n",
              "      <th>12</th>\n",
              "      <td>1391-Q1</td>\n",
              "      <td>13926</td>\n",
              "      <td>1391</td>\n",
              "      <td>Q1</td>\n",
              "      <td>17</td>\n",
              "      <td>False</td>\n",
              "      <td>False</td>\n",
              "      <td>False</td>\n",
              "      <td>12262.0</td>\n",
              "      <td>18518.0</td>\n",
              "      <td>13059.0</td>\n",
              "    </tr>\n",
              "    <tr>\n",
              "      <th>13</th>\n",
              "      <td>1391-Q2</td>\n",
              "      <td>18254</td>\n",
              "      <td>1391</td>\n",
              "      <td>Q2</td>\n",
              "      <td>18</td>\n",
              "      <td>True</td>\n",
              "      <td>False</td>\n",
              "      <td>False</td>\n",
              "      <td>13926.0</td>\n",
              "      <td>15074.0</td>\n",
              "      <td>18518.0</td>\n",
              "    </tr>\n",
              "    <tr>\n",
              "      <th>14</th>\n",
              "      <td>1391-Q3</td>\n",
              "      <td>14740</td>\n",
              "      <td>1391</td>\n",
              "      <td>Q3</td>\n",
              "      <td>19</td>\n",
              "      <td>False</td>\n",
              "      <td>True</td>\n",
              "      <td>False</td>\n",
              "      <td>18254.0</td>\n",
              "      <td>12262.0</td>\n",
              "      <td>15074.0</td>\n",
              "    </tr>\n",
              "    <tr>\n",
              "      <th>15</th>\n",
              "      <td>1391-Q4</td>\n",
              "      <td>14538</td>\n",
              "      <td>1391</td>\n",
              "      <td>Q4</td>\n",
              "      <td>20</td>\n",
              "      <td>False</td>\n",
              "      <td>False</td>\n",
              "      <td>True</td>\n",
              "      <td>14740.0</td>\n",
              "      <td>13926.0</td>\n",
              "      <td>12262.0</td>\n",
              "    </tr>\n",
              "    <tr>\n",
              "      <th>16</th>\n",
              "      <td>1392-Q1</td>\n",
              "      <td>14276</td>\n",
              "      <td>1392</td>\n",
              "      <td>Q1</td>\n",
              "      <td>21</td>\n",
              "      <td>False</td>\n",
              "      <td>False</td>\n",
              "      <td>False</td>\n",
              "      <td>14538.0</td>\n",
              "      <td>18254.0</td>\n",
              "      <td>13926.0</td>\n",
              "    </tr>\n",
              "    <tr>\n",
              "      <th>17</th>\n",
              "      <td>1392-Q2</td>\n",
              "      <td>20920</td>\n",
              "      <td>1392</td>\n",
              "      <td>Q2</td>\n",
              "      <td>22</td>\n",
              "      <td>True</td>\n",
              "      <td>False</td>\n",
              "      <td>False</td>\n",
              "      <td>14276.0</td>\n",
              "      <td>14740.0</td>\n",
              "      <td>18254.0</td>\n",
              "    </tr>\n",
              "    <tr>\n",
              "      <th>18</th>\n",
              "      <td>1392-Q3</td>\n",
              "      <td>15909</td>\n",
              "      <td>1392</td>\n",
              "      <td>Q3</td>\n",
              "      <td>23</td>\n",
              "      <td>False</td>\n",
              "      <td>True</td>\n",
              "      <td>False</td>\n",
              "      <td>20920.0</td>\n",
              "      <td>14538.0</td>\n",
              "      <td>14740.0</td>\n",
              "    </tr>\n",
              "    <tr>\n",
              "      <th>19</th>\n",
              "      <td>1392-Q4</td>\n",
              "      <td>14727</td>\n",
              "      <td>1392</td>\n",
              "      <td>Q4</td>\n",
              "      <td>24</td>\n",
              "      <td>False</td>\n",
              "      <td>False</td>\n",
              "      <td>True</td>\n",
              "      <td>15909.0</td>\n",
              "      <td>14276.0</td>\n",
              "      <td>14538.0</td>\n",
              "    </tr>\n",
              "    <tr>\n",
              "      <th>20</th>\n",
              "      <td>1393-Q1</td>\n",
              "      <td>15946</td>\n",
              "      <td>1393</td>\n",
              "      <td>Q1</td>\n",
              "      <td>25</td>\n",
              "      <td>False</td>\n",
              "      <td>False</td>\n",
              "      <td>False</td>\n",
              "      <td>14727.0</td>\n",
              "      <td>20920.0</td>\n",
              "      <td>14276.0</td>\n",
              "    </tr>\n",
              "    <tr>\n",
              "      <th>21</th>\n",
              "      <td>1393-Q2</td>\n",
              "      <td>22209</td>\n",
              "      <td>1393</td>\n",
              "      <td>Q2</td>\n",
              "      <td>26</td>\n",
              "      <td>True</td>\n",
              "      <td>False</td>\n",
              "      <td>False</td>\n",
              "      <td>15946.0</td>\n",
              "      <td>15909.0</td>\n",
              "      <td>20920.0</td>\n",
              "    </tr>\n",
              "    <tr>\n",
              "      <th>22</th>\n",
              "      <td>1393-Q3</td>\n",
              "      <td>17419</td>\n",
              "      <td>1393</td>\n",
              "      <td>Q3</td>\n",
              "      <td>27</td>\n",
              "      <td>False</td>\n",
              "      <td>True</td>\n",
              "      <td>False</td>\n",
              "      <td>22209.0</td>\n",
              "      <td>14727.0</td>\n",
              "      <td>15909.0</td>\n",
              "    </tr>\n",
              "    <tr>\n",
              "      <th>23</th>\n",
              "      <td>1393-Q4</td>\n",
              "      <td>15589</td>\n",
              "      <td>1393</td>\n",
              "      <td>Q4</td>\n",
              "      <td>28</td>\n",
              "      <td>False</td>\n",
              "      <td>False</td>\n",
              "      <td>True</td>\n",
              "      <td>17419.0</td>\n",
              "      <td>15946.0</td>\n",
              "      <td>14727.0</td>\n",
              "    </tr>\n",
              "    <tr>\n",
              "      <th>24</th>\n",
              "      <td>1394-Q1</td>\n",
              "      <td>16370</td>\n",
              "      <td>1394</td>\n",
              "      <td>Q1</td>\n",
              "      <td>29</td>\n",
              "      <td>False</td>\n",
              "      <td>False</td>\n",
              "      <td>False</td>\n",
              "      <td>15589.0</td>\n",
              "      <td>22209.0</td>\n",
              "      <td>15946.0</td>\n",
              "    </tr>\n",
              "    <tr>\n",
              "      <th>25</th>\n",
              "      <td>1394-Q2</td>\n",
              "      <td>25563</td>\n",
              "      <td>1394</td>\n",
              "      <td>Q2</td>\n",
              "      <td>30</td>\n",
              "      <td>True</td>\n",
              "      <td>False</td>\n",
              "      <td>False</td>\n",
              "      <td>16370.0</td>\n",
              "      <td>17419.0</td>\n",
              "      <td>22209.0</td>\n",
              "    </tr>\n",
              "    <tr>\n",
              "      <th>26</th>\n",
              "      <td>1394-Q3</td>\n",
              "      <td>20513</td>\n",
              "      <td>1394</td>\n",
              "      <td>Q3</td>\n",
              "      <td>31</td>\n",
              "      <td>False</td>\n",
              "      <td>True</td>\n",
              "      <td>False</td>\n",
              "      <td>25563.0</td>\n",
              "      <td>15589.0</td>\n",
              "      <td>17419.0</td>\n",
              "    </tr>\n",
              "    <tr>\n",
              "      <th>27</th>\n",
              "      <td>1394-Q4</td>\n",
              "      <td>13657</td>\n",
              "      <td>1394</td>\n",
              "      <td>Q4</td>\n",
              "      <td>32</td>\n",
              "      <td>False</td>\n",
              "      <td>False</td>\n",
              "      <td>True</td>\n",
              "      <td>20513.0</td>\n",
              "      <td>16370.0</td>\n",
              "      <td>15589.0</td>\n",
              "    </tr>\n",
              "    <tr>\n",
              "      <th>28</th>\n",
              "      <td>1395-Q1</td>\n",
              "      <td>16553</td>\n",
              "      <td>1395</td>\n",
              "      <td>Q1</td>\n",
              "      <td>33</td>\n",
              "      <td>False</td>\n",
              "      <td>False</td>\n",
              "      <td>False</td>\n",
              "      <td>13657.0</td>\n",
              "      <td>25563.0</td>\n",
              "      <td>16370.0</td>\n",
              "    </tr>\n",
              "    <tr>\n",
              "      <th>29</th>\n",
              "      <td>1395-Q2</td>\n",
              "      <td>26391</td>\n",
              "      <td>1395</td>\n",
              "      <td>Q2</td>\n",
              "      <td>34</td>\n",
              "      <td>True</td>\n",
              "      <td>False</td>\n",
              "      <td>False</td>\n",
              "      <td>16553.0</td>\n",
              "      <td>20513.0</td>\n",
              "      <td>25563.0</td>\n",
              "    </tr>\n",
              "    <tr>\n",
              "      <th>30</th>\n",
              "      <td>1395-Q3</td>\n",
              "      <td>20666</td>\n",
              "      <td>1395</td>\n",
              "      <td>Q3</td>\n",
              "      <td>35</td>\n",
              "      <td>False</td>\n",
              "      <td>True</td>\n",
              "      <td>False</td>\n",
              "      <td>26391.0</td>\n",
              "      <td>13657.0</td>\n",
              "      <td>20513.0</td>\n",
              "    </tr>\n",
              "    <tr>\n",
              "      <th>31</th>\n",
              "      <td>1395-Q4</td>\n",
              "      <td>14768</td>\n",
              "      <td>1395</td>\n",
              "      <td>Q4</td>\n",
              "      <td>36</td>\n",
              "      <td>False</td>\n",
              "      <td>False</td>\n",
              "      <td>True</td>\n",
              "      <td>20666.0</td>\n",
              "      <td>16553.0</td>\n",
              "      <td>13657.0</td>\n",
              "    </tr>\n",
              "    <tr>\n",
              "      <th>32</th>\n",
              "      <td>1396-Q1</td>\n",
              "      <td>17982</td>\n",
              "      <td>1396</td>\n",
              "      <td>Q1</td>\n",
              "      <td>37</td>\n",
              "      <td>False</td>\n",
              "      <td>False</td>\n",
              "      <td>False</td>\n",
              "      <td>14768.0</td>\n",
              "      <td>26391.0</td>\n",
              "      <td>16553.0</td>\n",
              "    </tr>\n",
              "    <tr>\n",
              "      <th>33</th>\n",
              "      <td>1396-Q2</td>\n",
              "      <td>28016</td>\n",
              "      <td>1396</td>\n",
              "      <td>Q2</td>\n",
              "      <td>38</td>\n",
              "      <td>True</td>\n",
              "      <td>False</td>\n",
              "      <td>False</td>\n",
              "      <td>17982.0</td>\n",
              "      <td>20666.0</td>\n",
              "      <td>26391.0</td>\n",
              "    </tr>\n",
              "    <tr>\n",
              "      <th>34</th>\n",
              "      <td>1396-Q3</td>\n",
              "      <td>22424</td>\n",
              "      <td>1396</td>\n",
              "      <td>Q3</td>\n",
              "      <td>39</td>\n",
              "      <td>False</td>\n",
              "      <td>True</td>\n",
              "      <td>False</td>\n",
              "      <td>28016.0</td>\n",
              "      <td>14768.0</td>\n",
              "      <td>20666.0</td>\n",
              "    </tr>\n",
              "    <tr>\n",
              "      <th>35</th>\n",
              "      <td>1396-Q4</td>\n",
              "      <td>14981</td>\n",
              "      <td>1396</td>\n",
              "      <td>Q4</td>\n",
              "      <td>40</td>\n",
              "      <td>False</td>\n",
              "      <td>False</td>\n",
              "      <td>True</td>\n",
              "      <td>22424.0</td>\n",
              "      <td>17982.0</td>\n",
              "      <td>14768.0</td>\n",
              "    </tr>\n",
              "    <tr>\n",
              "      <th>36</th>\n",
              "      <td>1397-Q1</td>\n",
              "      <td>18339</td>\n",
              "      <td>1397</td>\n",
              "      <td>Q1</td>\n",
              "      <td>41</td>\n",
              "      <td>False</td>\n",
              "      <td>False</td>\n",
              "      <td>False</td>\n",
              "      <td>14981.0</td>\n",
              "      <td>28016.0</td>\n",
              "      <td>17982.0</td>\n",
              "    </tr>\n",
              "    <tr>\n",
              "      <th>37</th>\n",
              "      <td>1397-Q2</td>\n",
              "      <td>28755</td>\n",
              "      <td>1397</td>\n",
              "      <td>Q2</td>\n",
              "      <td>42</td>\n",
              "      <td>True</td>\n",
              "      <td>False</td>\n",
              "      <td>False</td>\n",
              "      <td>18339.0</td>\n",
              "      <td>22424.0</td>\n",
              "      <td>28016.0</td>\n",
              "    </tr>\n",
              "    <tr>\n",
              "      <th>38</th>\n",
              "      <td>1397-Q3</td>\n",
              "      <td>23528</td>\n",
              "      <td>1397</td>\n",
              "      <td>Q3</td>\n",
              "      <td>43</td>\n",
              "      <td>False</td>\n",
              "      <td>True</td>\n",
              "      <td>False</td>\n",
              "      <td>28755.0</td>\n",
              "      <td>14981.0</td>\n",
              "      <td>22424.0</td>\n",
              "    </tr>\n",
              "    <tr>\n",
              "      <th>39</th>\n",
              "      <td>1397-Q4</td>\n",
              "      <td>17044</td>\n",
              "      <td>1397</td>\n",
              "      <td>Q4</td>\n",
              "      <td>44</td>\n",
              "      <td>False</td>\n",
              "      <td>False</td>\n",
              "      <td>True</td>\n",
              "      <td>23528.0</td>\n",
              "      <td>18339.0</td>\n",
              "      <td>14981.0</td>\n",
              "    </tr>\n",
              "    <tr>\n",
              "      <th>40</th>\n",
              "      <td>1398-Q1</td>\n",
              "      <td>19380</td>\n",
              "      <td>1398</td>\n",
              "      <td>Q1</td>\n",
              "      <td>45</td>\n",
              "      <td>False</td>\n",
              "      <td>False</td>\n",
              "      <td>False</td>\n",
              "      <td>17044.0</td>\n",
              "      <td>28755.0</td>\n",
              "      <td>18339.0</td>\n",
              "    </tr>\n",
              "    <tr>\n",
              "      <th>41</th>\n",
              "      <td>1398-Q2</td>\n",
              "      <td>29449</td>\n",
              "      <td>1398</td>\n",
              "      <td>Q2</td>\n",
              "      <td>46</td>\n",
              "      <td>True</td>\n",
              "      <td>False</td>\n",
              "      <td>False</td>\n",
              "      <td>19380.0</td>\n",
              "      <td>23528.0</td>\n",
              "      <td>28755.0</td>\n",
              "    </tr>\n",
              "    <tr>\n",
              "      <th>42</th>\n",
              "      <td>1398-Q3</td>\n",
              "      <td>22967</td>\n",
              "      <td>1398</td>\n",
              "      <td>Q3</td>\n",
              "      <td>47</td>\n",
              "      <td>False</td>\n",
              "      <td>True</td>\n",
              "      <td>False</td>\n",
              "      <td>29449.0</td>\n",
              "      <td>17044.0</td>\n",
              "      <td>23528.0</td>\n",
              "    </tr>\n",
              "    <tr>\n",
              "      <th>43</th>\n",
              "      <td>1398-Q4</td>\n",
              "      <td>16704</td>\n",
              "      <td>1398</td>\n",
              "      <td>Q4</td>\n",
              "      <td>48</td>\n",
              "      <td>False</td>\n",
              "      <td>False</td>\n",
              "      <td>True</td>\n",
              "      <td>22967.0</td>\n",
              "      <td>19380.0</td>\n",
              "      <td>17044.0</td>\n",
              "    </tr>\n",
              "  </tbody>\n",
              "</table>\n",
              "</div>"
            ],
            "text/plain": [
              "    quarter  electricity_consumption  year season  trend     q2     q3     q4  \\\n",
              "0   1388-Q1                    13392  1388     Q1      5  False  False  False   \n",
              "1   1388-Q2                    16834  1388     Q2      6   True  False  False   \n",
              "2   1388-Q3                    12723  1388     Q3      7  False   True  False   \n",
              "3   1388-Q4                    13836  1388     Q4      8  False  False   True   \n",
              "4   1389-Q1                    14591  1389     Q1      9  False  False  False   \n",
              "5   1389-Q2                    18656  1389     Q2     10   True  False  False   \n",
              "6   1389-Q3                    14973  1389     Q3     11  False   True  False   \n",
              "7   1389-Q4                    12688  1389     Q4     12  False  False   True   \n",
              "8   1390-Q1                    13059  1390     Q1     13  False  False  False   \n",
              "9   1390-Q2                    18518  1390     Q2     14   True  False  False   \n",
              "10  1390-Q3                    15074  1390     Q3     15  False   True  False   \n",
              "11  1390-Q4                    12262  1390     Q4     16  False  False   True   \n",
              "12  1391-Q1                    13926  1391     Q1     17  False  False  False   \n",
              "13  1391-Q2                    18254  1391     Q2     18   True  False  False   \n",
              "14  1391-Q3                    14740  1391     Q3     19  False   True  False   \n",
              "15  1391-Q4                    14538  1391     Q4     20  False  False   True   \n",
              "16  1392-Q1                    14276  1392     Q1     21  False  False  False   \n",
              "17  1392-Q2                    20920  1392     Q2     22   True  False  False   \n",
              "18  1392-Q3                    15909  1392     Q3     23  False   True  False   \n",
              "19  1392-Q4                    14727  1392     Q4     24  False  False   True   \n",
              "20  1393-Q1                    15946  1393     Q1     25  False  False  False   \n",
              "21  1393-Q2                    22209  1393     Q2     26   True  False  False   \n",
              "22  1393-Q3                    17419  1393     Q3     27  False   True  False   \n",
              "23  1393-Q4                    15589  1393     Q4     28  False  False   True   \n",
              "24  1394-Q1                    16370  1394     Q1     29  False  False  False   \n",
              "25  1394-Q2                    25563  1394     Q2     30   True  False  False   \n",
              "26  1394-Q3                    20513  1394     Q3     31  False   True  False   \n",
              "27  1394-Q4                    13657  1394     Q4     32  False  False   True   \n",
              "28  1395-Q1                    16553  1395     Q1     33  False  False  False   \n",
              "29  1395-Q2                    26391  1395     Q2     34   True  False  False   \n",
              "30  1395-Q3                    20666  1395     Q3     35  False   True  False   \n",
              "31  1395-Q4                    14768  1395     Q4     36  False  False   True   \n",
              "32  1396-Q1                    17982  1396     Q1     37  False  False  False   \n",
              "33  1396-Q2                    28016  1396     Q2     38   True  False  False   \n",
              "34  1396-Q3                    22424  1396     Q3     39  False   True  False   \n",
              "35  1396-Q4                    14981  1396     Q4     40  False  False   True   \n",
              "36  1397-Q1                    18339  1397     Q1     41  False  False  False   \n",
              "37  1397-Q2                    28755  1397     Q2     42   True  False  False   \n",
              "38  1397-Q3                    23528  1397     Q3     43  False   True  False   \n",
              "39  1397-Q4                    17044  1397     Q4     44  False  False   True   \n",
              "40  1398-Q1                    19380  1398     Q1     45  False  False  False   \n",
              "41  1398-Q2                    29449  1398     Q2     46   True  False  False   \n",
              "42  1398-Q3                    22967  1398     Q3     47  False   True  False   \n",
              "43  1398-Q4                    16704  1398     Q4     48  False  False   True   \n",
              "\n",
              "      lag_1    lag_3    lag_4  \n",
              "0   14511.0  13338.0  12574.0  \n",
              "1   13392.0  12821.0  13338.0  \n",
              "2   16834.0  14511.0  12821.0  \n",
              "3   12723.0  13392.0  14511.0  \n",
              "4   13836.0  16834.0  13392.0  \n",
              "5   14591.0  12723.0  16834.0  \n",
              "6   18656.0  13836.0  12723.0  \n",
              "7   14973.0  14591.0  13836.0  \n",
              "8   12688.0  18656.0  14591.0  \n",
              "9   13059.0  14973.0  18656.0  \n",
              "10  18518.0  12688.0  14973.0  \n",
              "11  15074.0  13059.0  12688.0  \n",
              "12  12262.0  18518.0  13059.0  \n",
              "13  13926.0  15074.0  18518.0  \n",
              "14  18254.0  12262.0  15074.0  \n",
              "15  14740.0  13926.0  12262.0  \n",
              "16  14538.0  18254.0  13926.0  \n",
              "17  14276.0  14740.0  18254.0  \n",
              "18  20920.0  14538.0  14740.0  \n",
              "19  15909.0  14276.0  14538.0  \n",
              "20  14727.0  20920.0  14276.0  \n",
              "21  15946.0  15909.0  20920.0  \n",
              "22  22209.0  14727.0  15909.0  \n",
              "23  17419.0  15946.0  14727.0  \n",
              "24  15589.0  22209.0  15946.0  \n",
              "25  16370.0  17419.0  22209.0  \n",
              "26  25563.0  15589.0  17419.0  \n",
              "27  20513.0  16370.0  15589.0  \n",
              "28  13657.0  25563.0  16370.0  \n",
              "29  16553.0  20513.0  25563.0  \n",
              "30  26391.0  13657.0  20513.0  \n",
              "31  20666.0  16553.0  13657.0  \n",
              "32  14768.0  26391.0  16553.0  \n",
              "33  17982.0  20666.0  26391.0  \n",
              "34  28016.0  14768.0  20666.0  \n",
              "35  22424.0  17982.0  14768.0  \n",
              "36  14981.0  28016.0  17982.0  \n",
              "37  18339.0  22424.0  28016.0  \n",
              "38  28755.0  14981.0  22424.0  \n",
              "39  23528.0  18339.0  14981.0  \n",
              "40  17044.0  28755.0  18339.0  \n",
              "41  19380.0  23528.0  28755.0  \n",
              "42  29449.0  17044.0  23528.0  \n",
              "43  22967.0  19380.0  17044.0  "
            ]
          },
          "execution_count": 137,
          "metadata": {},
          "output_type": "execute_result"
        }
      ],
      "source": [
        "train"
      ]
    },
    {
      "cell_type": "code",
      "execution_count": null,
      "id": "3c83f998-8f4f-44f9-ad08-34a7637ef3ab",
      "metadata": {
        "id": "3c83f998-8f4f-44f9-ad08-34a7637ef3ab",
        "outputId": "a583c833-3bb1-4313-b0b7-239457dfb58a"
      },
      "outputs": [
        {
          "data": {
            "text/html": [
              "<div>\n",
              "<style scoped>\n",
              "    .dataframe tbody tr th:only-of-type {\n",
              "        vertical-align: middle;\n",
              "    }\n",
              "\n",
              "    .dataframe tbody tr th {\n",
              "        vertical-align: top;\n",
              "    }\n",
              "\n",
              "    .dataframe thead th {\n",
              "        text-align: right;\n",
              "    }\n",
              "</style>\n",
              "<table border=\"1\" class=\"dataframe\">\n",
              "  <thead>\n",
              "    <tr style=\"text-align: right;\">\n",
              "      <th></th>\n",
              "      <th>quarter</th>\n",
              "      <th>electricity_consumption</th>\n",
              "      <th>year</th>\n",
              "      <th>season</th>\n",
              "      <th>trend</th>\n",
              "      <th>q2</th>\n",
              "      <th>q3</th>\n",
              "      <th>q4</th>\n",
              "      <th>lag_1</th>\n",
              "      <th>lag_3</th>\n",
              "      <th>lag_4</th>\n",
              "    </tr>\n",
              "  </thead>\n",
              "  <tbody>\n",
              "    <tr>\n",
              "      <th>44</th>\n",
              "      <td>1399-Q1</td>\n",
              "      <td>19817</td>\n",
              "      <td>1399</td>\n",
              "      <td>Q1</td>\n",
              "      <td>49</td>\n",
              "      <td>False</td>\n",
              "      <td>False</td>\n",
              "      <td>False</td>\n",
              "      <td>16704.0</td>\n",
              "      <td>29449.0</td>\n",
              "      <td>19380.0</td>\n",
              "    </tr>\n",
              "    <tr>\n",
              "      <th>45</th>\n",
              "      <td>1399-Q2</td>\n",
              "      <td>32157</td>\n",
              "      <td>1399</td>\n",
              "      <td>Q2</td>\n",
              "      <td>50</td>\n",
              "      <td>True</td>\n",
              "      <td>False</td>\n",
              "      <td>False</td>\n",
              "      <td>19817.0</td>\n",
              "      <td>22967.0</td>\n",
              "      <td>29449.0</td>\n",
              "    </tr>\n",
              "    <tr>\n",
              "      <th>46</th>\n",
              "      <td>1399-Q3</td>\n",
              "      <td>23972</td>\n",
              "      <td>1399</td>\n",
              "      <td>Q3</td>\n",
              "      <td>51</td>\n",
              "      <td>False</td>\n",
              "      <td>True</td>\n",
              "      <td>False</td>\n",
              "      <td>32157.0</td>\n",
              "      <td>16704.0</td>\n",
              "      <td>22967.0</td>\n",
              "    </tr>\n",
              "    <tr>\n",
              "      <th>47</th>\n",
              "      <td>1399-Q4</td>\n",
              "      <td>17105</td>\n",
              "      <td>1399</td>\n",
              "      <td>Q4</td>\n",
              "      <td>52</td>\n",
              "      <td>False</td>\n",
              "      <td>False</td>\n",
              "      <td>True</td>\n",
              "      <td>23972.0</td>\n",
              "      <td>19817.0</td>\n",
              "      <td>16704.0</td>\n",
              "    </tr>\n",
              "    <tr>\n",
              "      <th>48</th>\n",
              "      <td>1400-Q1</td>\n",
              "      <td>21045</td>\n",
              "      <td>1400</td>\n",
              "      <td>Q1</td>\n",
              "      <td>53</td>\n",
              "      <td>False</td>\n",
              "      <td>False</td>\n",
              "      <td>False</td>\n",
              "      <td>17105.0</td>\n",
              "      <td>32157.0</td>\n",
              "      <td>19817.0</td>\n",
              "    </tr>\n",
              "    <tr>\n",
              "      <th>49</th>\n",
              "      <td>1400-Q2</td>\n",
              "      <td>34645</td>\n",
              "      <td>1400</td>\n",
              "      <td>Q2</td>\n",
              "      <td>54</td>\n",
              "      <td>True</td>\n",
              "      <td>False</td>\n",
              "      <td>False</td>\n",
              "      <td>21045.0</td>\n",
              "      <td>23972.0</td>\n",
              "      <td>32157.0</td>\n",
              "    </tr>\n",
              "  </tbody>\n",
              "</table>\n",
              "</div>"
            ],
            "text/plain": [
              "    quarter  electricity_consumption  year season  trend     q2     q3     q4  \\\n",
              "44  1399-Q1                    19817  1399     Q1     49  False  False  False   \n",
              "45  1399-Q2                    32157  1399     Q2     50   True  False  False   \n",
              "46  1399-Q3                    23972  1399     Q3     51  False   True  False   \n",
              "47  1399-Q4                    17105  1399     Q4     52  False  False   True   \n",
              "48  1400-Q1                    21045  1400     Q1     53  False  False  False   \n",
              "49  1400-Q2                    34645  1400     Q2     54   True  False  False   \n",
              "\n",
              "      lag_1    lag_3    lag_4  \n",
              "44  16704.0  29449.0  19380.0  \n",
              "45  19817.0  22967.0  29449.0  \n",
              "46  32157.0  16704.0  22967.0  \n",
              "47  23972.0  19817.0  16704.0  \n",
              "48  17105.0  32157.0  19817.0  \n",
              "49  21045.0  23972.0  32157.0  "
            ]
          },
          "execution_count": 138,
          "metadata": {},
          "output_type": "execute_result"
        }
      ],
      "source": [
        "test"
      ]
    },
    {
      "cell_type": "code",
      "execution_count": null,
      "id": "f509baa0-2136-4d44-aa10-8b50637400b1",
      "metadata": {
        "id": "f509baa0-2136-4d44-aa10-8b50637400b1"
      },
      "outputs": [],
      "source": [
        "from statsmodels.tsa.holtwinters import ExponentialSmoothing\n",
        "es = ExponentialSmoothing(train['electricity_consumption'],\n",
        "                          trend = 'add',\n",
        "                          damped_trend = False,\n",
        "                          seasonal = 'add',\n",
        "                          seasonal_periods = 4,\n",
        "                          initialization_method = 'estimated',\n",
        "                          initial_level = None,\n",
        "                          initial_trend = None,\n",
        "                          initial_seasonal = None)\n",
        "model_1 = es.fit()"
      ]
    },
    {
      "cell_type": "code",
      "execution_count": null,
      "id": "82d8c461-ba5f-44ca-aa3e-09a4754e75be",
      "metadata": {
        "id": "82d8c461-ba5f-44ca-aa3e-09a4754e75be",
        "outputId": "df9a871f-277d-41a1-f8bc-1e448b70071c"
      },
      "outputs": [
        {
          "data": {
            "text/plain": [
              "{'smoothing_level': 0.13186912692983702,\n",
              " 'smoothing_trend': 0.11053935749156828,\n",
              " 'smoothing_seasonal': 0.6846950252182438,\n",
              " 'damping_trend': nan,\n",
              " 'initial_level': 14253.703284617171,\n",
              " 'initial_trend': 169.9226370799578,\n",
              " 'initial_seasons': array([-1251.84619032,  3323.40236795,  -902.0401935 , -1745.25103637]),\n",
              " 'use_boxcox': False,\n",
              " 'lamda': None,\n",
              " 'remove_bias': False}"
            ]
          },
          "execution_count": 140,
          "metadata": {},
          "output_type": "execute_result"
        }
      ],
      "source": [
        "model_1.params"
      ]
    },
    {
      "cell_type": "code",
      "execution_count": null,
      "id": "1297f461-55a6-4fdd-b97a-d1af55475e23",
      "metadata": {
        "id": "1297f461-55a6-4fdd-b97a-d1af55475e23"
      },
      "outputs": [],
      "source": [
        "#soale 6 gozine 1"
      ]
    },
    {
      "cell_type": "code",
      "execution_count": null,
      "id": "068e26c9-ef68-431a-ba64-02cf3e249290",
      "metadata": {
        "id": "068e26c9-ef68-431a-ba64-02cf3e249290"
      },
      "outputs": [],
      "source": [
        "#soale 7 gozineye 1"
      ]
    },
    {
      "cell_type": "code",
      "execution_count": null,
      "id": "e80d5507-ed48-4708-b4c6-470e11ed661f",
      "metadata": {
        "id": "e80d5507-ed48-4708-b4c6-470e11ed661f",
        "outputId": "122e3dec-1b82-43a0-cf07-fec401b8f8c4"
      },
      "outputs": [
        {
          "data": {
            "text/plain": [
              "44    19918.355971\n",
              "45    30035.762170\n",
              "46    23904.524080\n",
              "47    18157.405476\n",
              "48    20687.155126\n",
              "49    30804.561324\n",
              "dtype: float64"
            ]
          },
          "execution_count": 142,
          "metadata": {},
          "output_type": "execute_result"
        }
      ],
      "source": [
        "pred_es_fw=model_1.forecast(steps=6)\n",
        "pred_es_fw"
      ]
    },
    {
      "cell_type": "code",
      "execution_count": null,
      "id": "145abc8a-1221-4cc8-88cc-b8c5dfe29e27",
      "metadata": {
        "id": "145abc8a-1221-4cc8-88cc-b8c5dfe29e27",
        "outputId": "0a4d83fc-6de2-4045-b74d-e3d59ca710e5"
      },
      "outputs": [
        {
          "data": {
            "text/plain": [
              "4.3999999999999995"
            ]
          },
          "execution_count": 143,
          "metadata": {},
          "output_type": "execute_result"
        }
      ],
      "source": [
        "abs_pre_err_es_fw=np.round(abs(test['electricity_consumption']-pred_es_fw)/test['electricity_consumption'] *100,1)\n",
        "abs_pre_err_es_fw.mean()"
      ]
    },
    {
      "cell_type": "code",
      "execution_count": null,
      "id": "fbbac872-d148-4be4-8087-c2ff3cb12e8e",
      "metadata": {
        "id": "fbbac872-d148-4be4-8087-c2ff3cb12e8e"
      },
      "outputs": [],
      "source": [
        "#soale 8 gozineye 2"
      ]
    },
    {
      "cell_type": "code",
      "execution_count": null,
      "id": "d0f2c103-4363-46f3-b95e-3a2adad04560",
      "metadata": {
        "id": "d0f2c103-4363-46f3-b95e-3a2adad04560",
        "outputId": "36c8ca98-34a4-4ee3-9c96-72759524e3f1"
      },
      "outputs": [
        {
          "data": {
            "text/plain": [
              "RangeIndex(start=44, stop=50, step=1)"
            ]
          },
          "execution_count": 145,
          "metadata": {},
          "output_type": "execute_result"
        }
      ],
      "source": [
        "test.index"
      ]
    },
    {
      "cell_type": "code",
      "execution_count": null,
      "id": "79983bf2-a1b8-448a-a234-4895a631e06a",
      "metadata": {
        "id": "79983bf2-a1b8-448a-a234-4895a631e06a",
        "outputId": "2dad1219-2329-438b-dd68-8d8c94a309e8"
      },
      "outputs": [
        {
          "name": "stderr",
          "output_type": "stream",
          "text": [
            "C:\\ProgramData\\anaconda3\\Lib\\site-packages\\statsmodels\\tsa\\holtwinters\\model.py:918: ConvergenceWarning: Optimization failed to converge. Check mle_retvals.\n",
            "  warnings.warn(\n",
            "C:\\ProgramData\\anaconda3\\Lib\\site-packages\\statsmodels\\tsa\\holtwinters\\model.py:918: ConvergenceWarning: Optimization failed to converge. Check mle_retvals.\n",
            "  warnings.warn(\n",
            "C:\\ProgramData\\anaconda3\\Lib\\site-packages\\statsmodels\\tsa\\holtwinters\\model.py:918: ConvergenceWarning: Optimization failed to converge. Check mle_retvals.\n",
            "  warnings.warn(\n",
            "C:\\ProgramData\\anaconda3\\Lib\\site-packages\\statsmodels\\tsa\\holtwinters\\model.py:918: ConvergenceWarning: Optimization failed to converge. Check mle_retvals.\n",
            "  warnings.warn(\n",
            "C:\\ProgramData\\anaconda3\\Lib\\site-packages\\statsmodels\\tsa\\holtwinters\\model.py:918: ConvergenceWarning: Optimization failed to converge. Check mle_retvals.\n",
            "  warnings.warn(\n"
          ]
        }
      ],
      "source": [
        "history=list(train['electricity_consumption'])\n",
        "pred_es_ew=[]\n",
        "for t in test.index:\n",
        "    es = ExponentialSmoothing(history,\n",
        "                          trend = 'add',\n",
        "                          damped_trend = False,\n",
        "                          seasonal = 'add',\n",
        "                          seasonal_periods = 4,\n",
        "                          initialization_method = 'estimated',\n",
        "                          initial_level = None,\n",
        "                          initial_trend = None,\n",
        "                          initial_seasonal = None)\n",
        "    model_2=es.fit()\n",
        "    pred_es_ew.append(model_2.forecast(steps=1)[0])\n",
        "    history.append(test.loc[t,'electricity_consumption'])\n"
      ]
    },
    {
      "cell_type": "code",
      "execution_count": null,
      "id": "0edbfcf6-e18a-4b0e-9a73-a74c03a1212c",
      "metadata": {
        "id": "0edbfcf6-e18a-4b0e-9a73-a74c03a1212c",
        "outputId": "ff5599c6-dbf4-4b0b-c111-278c14088eb3"
      },
      "outputs": [
        {
          "data": {
            "text/plain": [
              "[19918.355971220313,\n",
              " 30010.30430330016,\n",
              " 24260.366123913995,\n",
              " 17944.316746563247,\n",
              " 20842.54709320877,\n",
              " 32540.236866869833]"
            ]
          },
          "execution_count": 147,
          "metadata": {},
          "output_type": "execute_result"
        }
      ],
      "source": [
        "pred_es_ew"
      ]
    },
    {
      "cell_type": "code",
      "execution_count": null,
      "id": "52685878-9623-414a-900f-dfb9b4da804c",
      "metadata": {
        "id": "52685878-9623-414a-900f-dfb9b4da804c",
        "outputId": "7a357ca1-fb09-4fd3-8591-04bf470bfd33"
      },
      "outputs": [
        {
          "data": {
            "text/plain": [
              "3.4"
            ]
          },
          "execution_count": 148,
          "metadata": {},
          "output_type": "execute_result"
        }
      ],
      "source": [
        "abs_pre_err_es_ew=np.round(abs(pred_es_ew-test['electricity_consumption'])/test['electricity_consumption']*100,1)\n",
        "abs_pre_err_es_ew.mean()"
      ]
    },
    {
      "cell_type": "code",
      "execution_count": null,
      "id": "d92a95b4-2d20-415d-aceb-6fc93a22b88a",
      "metadata": {
        "id": "d92a95b4-2d20-415d-aceb-6fc93a22b88a"
      },
      "outputs": [],
      "source": [
        "#soale9 gozineye 4"
      ]
    },
    {
      "cell_type": "code",
      "execution_count": null,
      "id": "f73691ce-56cc-4efe-bf2b-205311fbb5a2",
      "metadata": {
        "id": "f73691ce-56cc-4efe-bf2b-205311fbb5a2",
        "outputId": "ea57bf5f-f741-4788-fa35-1a9e230175ee"
      },
      "outputs": [
        {
          "name": "stdout",
          "output_type": "stream",
          "text": [
            "<class 'pandas.core.frame.DataFrame'>\n",
            "RangeIndex: 44 entries, 0 to 43\n",
            "Data columns (total 11 columns):\n",
            " #   Column                   Non-Null Count  Dtype  \n",
            "---  ------                   --------------  -----  \n",
            " 0   quarter                  44 non-null     object \n",
            " 1   electricity_consumption  44 non-null     int64  \n",
            " 2   year                     44 non-null     int32  \n",
            " 3   season                   44 non-null     object \n",
            " 4   trend                    44 non-null     int32  \n",
            " 5   q2                       44 non-null     bool   \n",
            " 6   q3                       44 non-null     bool   \n",
            " 7   q4                       44 non-null     bool   \n",
            " 8   lag_1                    44 non-null     float64\n",
            " 9   lag_3                    44 non-null     float64\n",
            " 10  lag_4                    44 non-null     float64\n",
            "dtypes: bool(3), float64(3), int32(2), int64(1), object(2)\n",
            "memory usage: 2.7+ KB\n"
          ]
        }
      ],
      "source": [
        "train.info()"
      ]
    },
    {
      "cell_type": "code",
      "execution_count": null,
      "id": "5f13c4a3-bb27-465a-8d01-2ded101f3b3b",
      "metadata": {
        "id": "5f13c4a3-bb27-465a-8d01-2ded101f3b3b"
      },
      "outputs": [],
      "source": [
        "X_train=train.iloc[:,4:]\n",
        "y_train=train['electricity_consumption']"
      ]
    },
    {
      "cell_type": "code",
      "execution_count": null,
      "id": "7850805f-1a64-4a35-9701-abcded1a7d09",
      "metadata": {
        "id": "7850805f-1a64-4a35-9701-abcded1a7d09",
        "outputId": "218d5cf7-0746-4814-f0ec-502bcc2e578d"
      },
      "outputs": [
        {
          "name": "stdout",
          "output_type": "stream",
          "text": [
            "<class 'pandas.core.frame.DataFrame'>\n",
            "RangeIndex: 44 entries, 0 to 43\n",
            "Data columns (total 7 columns):\n",
            " #   Column  Non-Null Count  Dtype  \n",
            "---  ------  --------------  -----  \n",
            " 0   trend   44 non-null     int32  \n",
            " 1   q2      44 non-null     bool   \n",
            " 2   q3      44 non-null     bool   \n",
            " 3   q4      44 non-null     bool   \n",
            " 4   lag_1   44 non-null     float64\n",
            " 5   lag_3   44 non-null     float64\n",
            " 6   lag_4   44 non-null     float64\n",
            "dtypes: bool(3), float64(3), int32(1)\n",
            "memory usage: 1.5 KB\n"
          ]
        }
      ],
      "source": [
        "X_train.info()"
      ]
    },
    {
      "cell_type": "code",
      "execution_count": null,
      "id": "8c954b68-f335-4943-b705-59a3c4179d54",
      "metadata": {
        "id": "8c954b68-f335-4943-b705-59a3c4179d54"
      },
      "outputs": [],
      "source": [
        "from sklearn.preprocessing import StandardScaler\n",
        "scaler=StandardScaler()\n",
        "X_train_scaled=scaler.fit_transform(X_train)"
      ]
    },
    {
      "cell_type": "code",
      "execution_count": null,
      "id": "68263572-6ba2-4677-a0f6-af54336e70e1",
      "metadata": {
        "id": "68263572-6ba2-4677-a0f6-af54336e70e1",
        "outputId": "ae0ec7e7-308c-4017-80cc-4fa8b8645cf5"
      },
      "outputs": [
        {
          "data": {
            "text/plain": [
              "[(array([ 0,  1,  2,  3,  4,  5,  6,  7,  8,  9, 10, 11, 12, 13, 14, 15, 16,\n",
              "         17, 18, 19, 20, 21, 22, 23, 24, 25, 26, 27, 28, 29, 30, 31, 32, 33,\n",
              "         34, 35]),\n",
              "  array([36])),\n",
              " (array([ 0,  1,  2,  3,  4,  5,  6,  7,  8,  9, 10, 11, 12, 13, 14, 15, 16,\n",
              "         17, 18, 19, 20, 21, 22, 23, 24, 25, 26, 27, 28, 29, 30, 31, 32, 33,\n",
              "         34, 35, 36]),\n",
              "  array([37])),\n",
              " (array([ 0,  1,  2,  3,  4,  5,  6,  7,  8,  9, 10, 11, 12, 13, 14, 15, 16,\n",
              "         17, 18, 19, 20, 21, 22, 23, 24, 25, 26, 27, 28, 29, 30, 31, 32, 33,\n",
              "         34, 35, 36, 37]),\n",
              "  array([38])),\n",
              " (array([ 0,  1,  2,  3,  4,  5,  6,  7,  8,  9, 10, 11, 12, 13, 14, 15, 16,\n",
              "         17, 18, 19, 20, 21, 22, 23, 24, 25, 26, 27, 28, 29, 30, 31, 32, 33,\n",
              "         34, 35, 36, 37, 38]),\n",
              "  array([39])),\n",
              " (array([ 0,  1,  2,  3,  4,  5,  6,  7,  8,  9, 10, 11, 12, 13, 14, 15, 16,\n",
              "         17, 18, 19, 20, 21, 22, 23, 24, 25, 26, 27, 28, 29, 30, 31, 32, 33,\n",
              "         34, 35, 36, 37, 38, 39]),\n",
              "  array([40])),\n",
              " (array([ 0,  1,  2,  3,  4,  5,  6,  7,  8,  9, 10, 11, 12, 13, 14, 15, 16,\n",
              "         17, 18, 19, 20, 21, 22, 23, 24, 25, 26, 27, 28, 29, 30, 31, 32, 33,\n",
              "         34, 35, 36, 37, 38, 39, 40]),\n",
              "  array([41])),\n",
              " (array([ 0,  1,  2,  3,  4,  5,  6,  7,  8,  9, 10, 11, 12, 13, 14, 15, 16,\n",
              "         17, 18, 19, 20, 21, 22, 23, 24, 25, 26, 27, 28, 29, 30, 31, 32, 33,\n",
              "         34, 35, 36, 37, 38, 39, 40, 41]),\n",
              "  array([42])),\n",
              " (array([ 0,  1,  2,  3,  4,  5,  6,  7,  8,  9, 10, 11, 12, 13, 14, 15, 16,\n",
              "         17, 18, 19, 20, 21, 22, 23, 24, 25, 26, 27, 28, 29, 30, 31, 32, 33,\n",
              "         34, 35, 36, 37, 38, 39, 40, 41, 42]),\n",
              "  array([43]))]"
            ]
          },
          "execution_count": 205,
          "metadata": {},
          "output_type": "execute_result"
        }
      ],
      "source": [
        "val_period=2*4\n",
        "idn=np.arange(len(X_train_scaled))\n",
        "cv_splits = [(idn[: i], idn[i : i + 1]) for i in range(len(X_train_scaled) - val_period, len(X_train_scaled))]\n",
        "cv_splits"
      ]
    },
    {
      "cell_type": "code",
      "execution_count": null,
      "id": "efb9cdcb-2422-4572-bfe7-2a0e0367767f",
      "metadata": {
        "id": "efb9cdcb-2422-4572-bfe7-2a0e0367767f",
        "outputId": "570e2ad9-3689-4ea0-fac0-fdc55ba6cacc"
      },
      "outputs": [
        {
          "data": {
            "text/plain": [
              "8"
            ]
          },
          "execution_count": 207,
          "metadata": {},
          "output_type": "execute_result"
        }
      ],
      "source": [
        "len(cv_splits)"
      ]
    },
    {
      "cell_type": "code",
      "execution_count": null,
      "id": "bb308e54-319a-4661-8328-5cc7ae138013",
      "metadata": {
        "id": "bb308e54-319a-4661-8328-5cc7ae138013",
        "outputId": "9d09e34f-4419-4566-f681-d709a0621fdd"
      },
      "outputs": [
        {
          "data": {
            "text/plain": [
              "(array([0, 1, 3, 4, 6], dtype=int64),)"
            ]
          },
          "execution_count": 209,
          "metadata": {},
          "output_type": "execute_result"
        }
      ],
      "source": [
        "from sklearn.linear_model import LinearRegression\n",
        "model_3=LinearRegression()\n",
        "from sklearn.feature_selection import RFECV\n",
        "rfe=RFECV(LinearRegression(),cv=cv_splits,scoring='neg_root_mean_squared_error')\n",
        "rfe.fit(X_train_scaled,y_train)\n",
        "selected_features_ind=np.where(rfe.support_)\n",
        "selected_features_ind"
      ]
    },
    {
      "cell_type": "code",
      "execution_count": null,
      "id": "4d21e570-2d3f-4150-be26-9ae3e18b0145",
      "metadata": {
        "id": "4d21e570-2d3f-4150-be26-9ae3e18b0145"
      },
      "outputs": [],
      "source": [
        "#soale 10 gozineye 4"
      ]
    },
    {
      "cell_type": "code",
      "execution_count": null,
      "id": "861b8863-93b6-4349-9f06-d8beb5ca0d12",
      "metadata": {
        "id": "861b8863-93b6-4349-9f06-d8beb5ca0d12",
        "outputId": "a6cafc19-fea6-409b-f509-177ece404606"
      },
      "outputs": [
        {
          "data": {
            "text/html": [
              "<div>\n",
              "<style scoped>\n",
              "    .dataframe tbody tr th:only-of-type {\n",
              "        vertical-align: middle;\n",
              "    }\n",
              "\n",
              "    .dataframe tbody tr th {\n",
              "        vertical-align: top;\n",
              "    }\n",
              "\n",
              "    .dataframe thead th {\n",
              "        text-align: right;\n",
              "    }\n",
              "</style>\n",
              "<table border=\"1\" class=\"dataframe\">\n",
              "  <thead>\n",
              "    <tr style=\"text-align: right;\">\n",
              "      <th></th>\n",
              "      <th>trend</th>\n",
              "      <th>q2</th>\n",
              "      <th>q3</th>\n",
              "      <th>q4</th>\n",
              "      <th>lag_1</th>\n",
              "      <th>lag_3</th>\n",
              "      <th>lag_4</th>\n",
              "    </tr>\n",
              "  </thead>\n",
              "  <tbody>\n",
              "    <tr>\n",
              "      <th>44</th>\n",
              "      <td>49</td>\n",
              "      <td>False</td>\n",
              "      <td>False</td>\n",
              "      <td>False</td>\n",
              "      <td>16704.0</td>\n",
              "      <td>29449.0</td>\n",
              "      <td>19380.0</td>\n",
              "    </tr>\n",
              "    <tr>\n",
              "      <th>45</th>\n",
              "      <td>50</td>\n",
              "      <td>True</td>\n",
              "      <td>False</td>\n",
              "      <td>False</td>\n",
              "      <td>19817.0</td>\n",
              "      <td>22967.0</td>\n",
              "      <td>29449.0</td>\n",
              "    </tr>\n",
              "    <tr>\n",
              "      <th>46</th>\n",
              "      <td>51</td>\n",
              "      <td>False</td>\n",
              "      <td>True</td>\n",
              "      <td>False</td>\n",
              "      <td>32157.0</td>\n",
              "      <td>16704.0</td>\n",
              "      <td>22967.0</td>\n",
              "    </tr>\n",
              "    <tr>\n",
              "      <th>47</th>\n",
              "      <td>52</td>\n",
              "      <td>False</td>\n",
              "      <td>False</td>\n",
              "      <td>True</td>\n",
              "      <td>23972.0</td>\n",
              "      <td>19817.0</td>\n",
              "      <td>16704.0</td>\n",
              "    </tr>\n",
              "    <tr>\n",
              "      <th>48</th>\n",
              "      <td>53</td>\n",
              "      <td>False</td>\n",
              "      <td>False</td>\n",
              "      <td>False</td>\n",
              "      <td>17105.0</td>\n",
              "      <td>32157.0</td>\n",
              "      <td>19817.0</td>\n",
              "    </tr>\n",
              "    <tr>\n",
              "      <th>49</th>\n",
              "      <td>54</td>\n",
              "      <td>True</td>\n",
              "      <td>False</td>\n",
              "      <td>False</td>\n",
              "      <td>21045.0</td>\n",
              "      <td>23972.0</td>\n",
              "      <td>32157.0</td>\n",
              "    </tr>\n",
              "  </tbody>\n",
              "</table>\n",
              "</div>"
            ],
            "text/plain": [
              "    trend     q2     q3     q4    lag_1    lag_3    lag_4\n",
              "44     49  False  False  False  16704.0  29449.0  19380.0\n",
              "45     50   True  False  False  19817.0  22967.0  29449.0\n",
              "46     51  False   True  False  32157.0  16704.0  22967.0\n",
              "47     52  False  False   True  23972.0  19817.0  16704.0\n",
              "48     53  False  False  False  17105.0  32157.0  19817.0\n",
              "49     54   True  False  False  21045.0  23972.0  32157.0"
            ]
          },
          "execution_count": 215,
          "metadata": {},
          "output_type": "execute_result"
        }
      ],
      "source": [
        "X_test=test.iloc[:,4:]\n",
        "X_test"
      ]
    },
    {
      "cell_type": "code",
      "execution_count": null,
      "id": "efc745b1-7246-478b-98e7-2838fd681bf4",
      "metadata": {
        "id": "efc745b1-7246-478b-98e7-2838fd681bf4"
      },
      "outputs": [],
      "source": [
        "history_x=X_train.iloc[:,selected_features_ind[0]].copy()\n",
        "history_y=y_train.copy()\n",
        "X_test_selected_features=X_test.iloc[:,selected_features_ind[0]].copy()\n",
        "\n",
        "pred_fwd_ew=[]\n",
        "for t in test.index:\n",
        "    model_3=LinearRegression()\n",
        "    model_3.fit(history_x,history_y)\n",
        "    pred_fwd_ew.append(model_3.predict(X_test_selected_features.loc[t,:].to_frame().T)[0])\n",
        "    history_x.loc[t,:]=X_test_selected_features.loc[t,:]\n",
        "    history_y[t]=test.loc[t,'electricity_consumption']"
      ]
    },
    {
      "cell_type": "code",
      "execution_count": null,
      "id": "f65a1d99-c2ca-46e2-9500-a4d547c1215a",
      "metadata": {
        "id": "f65a1d99-c2ca-46e2-9500-a4d547c1215a",
        "outputId": "8e5d851d-4cbc-46ea-85f0-c9b92b7aa302"
      },
      "outputs": [
        {
          "data": {
            "text/plain": [
              "[20122.844797250287,\n",
              " 30029.680732365632,\n",
              " 24349.671976090707,\n",
              " 17946.16039191065,\n",
              " 20667.492431538434,\n",
              " 32707.027853797714]"
            ]
          },
          "execution_count": 219,
          "metadata": {},
          "output_type": "execute_result"
        }
      ],
      "source": [
        "pred_fwd_ew"
      ]
    },
    {
      "cell_type": "code",
      "execution_count": null,
      "id": "2e52c266-09ec-41ff-9eab-4f630c2873e5",
      "metadata": {
        "id": "2e52c266-09ec-41ff-9eab-4f630c2873e5",
        "outputId": "2fceeadc-0c04-4539-f4bc-1ebcaf3662e2"
      },
      "outputs": [
        {
          "data": {
            "text/plain": [
              "3.3333333333333335"
            ]
          },
          "execution_count": 229,
          "metadata": {},
          "output_type": "execute_result"
        }
      ],
      "source": [
        "abs_pct_err_fwd_ew=np.round(abs(test['electricity_consumption']-pred_fwd_ew)/test['electricity_consumption'],1)\n",
        "abs_pct_err_fwd_ew.mean()*100"
      ]
    },
    {
      "cell_type": "code",
      "execution_count": null,
      "id": "3207b7c4-2066-4c75-9b81-c2a05a6f674a",
      "metadata": {
        "id": "3207b7c4-2066-4c75-9b81-c2a05a6f674a"
      },
      "outputs": [],
      "source": []
    }
  ],
  "metadata": {
    "kernelspec": {
      "display_name": "Python 3 (ipykernel)",
      "language": "python",
      "name": "python3"
    },
    "language_info": {
      "codemirror_mode": {
        "name": "ipython",
        "version": 3
      },
      "file_extension": ".py",
      "mimetype": "text/x-python",
      "name": "python",
      "nbconvert_exporter": "python",
      "pygments_lexer": "ipython3",
      "version": "3.12.4"
    },
    "colab": {
      "provenance": [],
      "include_colab_link": true
    }
  },
  "nbformat": 4,
  "nbformat_minor": 5
}